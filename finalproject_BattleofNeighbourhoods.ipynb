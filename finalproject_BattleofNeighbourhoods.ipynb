{
 "cells": [
  {
   "cell_type": "markdown",
   "metadata": {
    "colab_type": "text",
    "collapsed": true,
    "id": "8oK9wDLY8WtD"
   },
   "source": [
    "# The Battle of the Neighbourhoods"
   ]
  },
  {
   "cell_type": "markdown",
   "metadata": {
    "colab_type": "text",
    "id": "NtL4yqHl8WtT"
   },
   "source": [
    "#### 1.A description of the problem and a discussion of the background."
   ]
  },
  {
   "cell_type": "markdown",
   "metadata": {
    "colab_type": "text",
    "id": "PAWf0XRf8Wta"
   },
   "source": [
    "A African family is planning to setup African restaurant New York City. They have asked me with the responsibility of identifying the availability and spread of African restaurants in New York City, and also identifying the response of people for African restaurants to advise on the good strategy which is the best borough to open the restaurant. It is important to note that the demographics of New York City is one that is particularly and ethnically diverse, culturally rich. As one of the largest cities in the United States, it stands out on the strength of what it offers residents and visitors alike. With almost 20 million people in its metropolitan statistical area and approximately 23 million in its combined statistical area, it is one of the world's most populous megacities.\n",
    "\n",
    "\n",
    "New York's non-white population was 36,620 in 1890.[113] New York City was a prime destination in the early twentieth century for African Americans during the Great Migration from the American South, and by 1916, New York City had become home to the largest urban African diaspora in North America New York City is composed of five boroughs, each of which is a county of the State of New York. The five boroughs—Brooklyn, Queens, Manhattan, the Bronx, and Staten Island—were consolidated into a single city in 1898.[15] The city and its metropolitan area constitute the premier gateway for legal immigration to the United States. As many as 800 languages are spoken in New York,[16] making it the most linguistically diverse city in the world. New York is home to more than 3.2 million residents born outside the United States,[17] the largest foreign-born population of any city in the world as of 2016.[18][19] As of 2019, the New York metropolitan area is estimated to produce a gross metropolitan product (GMP) of $2.0 trillion. If the New York metropolitan area were a sovereign state, it would have the eighth-largest economy in the world. New York is home to the highest number of billionaires of any city in the world.\n",
    "\n",
    "\n",
    "New York City is also densely populated which as a result, it earned the term \"melting pot\" - coined to describe the densely populated immigrant neighborhoods on the Lower East Side. As many as 800 languages are spoken in New York, making it the most linguistically diverse city in the world. English remains the most widely spoken language, although there are areas in the outer boroughs in which up to 25percent of people speak English as an alternate language, and/or have limited or no English language fluency. English is least spoken in neighborhoods such as Flushing, Sunset Park, and Corona. It is no brainer that with its diverse culture, comes the yearning for diverse food items and culinary tastes. There are many restaurants in New York City, belonging to different categories of ethnicities not limited to African, Chinese, French, Indian, etc. In addition to the task Imentioned earlier, my goal on this project is to highlight and visualize the neighborhoods and boroughs in New York City where you can find African restaurants and the go-to-market strategy for entering the restaurant market for my client.\n"
   ]
  },
  {
   "cell_type": "markdown",
   "metadata": {
    "colab_type": "text",
    "id": "1R2OA6tu8Wtf"
   },
   "source": [
    "#### 2. A description of the data and how it will be used to solve the problem. "
   ]
  },
  {
   "cell_type": "markdown",
   "metadata": {
    "colab_type": "text",
    "id": "T75AEPgD8Wtl"
   },
   "source": [
    "Here is an overview of all the data points for this project:\n",
    "\n",
    "A dataset of New York City containing the list Boroughs, Neighborhoods along with their latitude and longitude.\n",
    "Data source : https://cocl.us/new_york_dataset\n",
    "Description : This data set contains the required information. And we will use this data set to explore various neighborhoods of new york city.\n",
    "\n",
    "A dataset leveraging Foursquare API of African resturants across the various neighborhood of NYC.\n",
    "Data source : Fousquare API\n",
    "Description : This API would prvide an up-to-date information on all the restaurants in each neighborhood. A further drill down of the dataset wil then provide the venues for African restaurants spread across the various neighbourhoods.\n",
    "\n",
    "GeoSpace data\n",
    "Data source : https://data.cityofnewyork.us/City-Government/Borough-Boundaries/tqmj-j8zm\n",
    "Description : This will provide the functionality needed to visualize the New york Borough boundaries with the aid of a Choropleth map."
   ]
  },
  {
   "cell_type": "markdown",
   "metadata": {
    "colab_type": "text",
    "id": "3YPY7-lA8Wts"
   },
   "source": [
    "### 3.Methodology section which represents the main component of the report where you discuss and describe any exploratory data analysis that you did, any inferential statistical testing that you performed, if any, and what machine learnings were used and why."
   ]
  },
  {
   "cell_type": "markdown",
   "metadata": {
    "colab_type": "text",
    "id": "uyrehbTZ8Wtz"
   },
   "source": [
    "•\tCollect the new york city data from https://cocl.us/new_york_dataset\n",
    "•\tUsing FourSquare API, find all venues for each neighborhood.\n",
    "•\tNow Filter out all venues that are African restaurants.\n",
    "•\tFinding rating , tips and like count for each African Restaurants using Foursquare API.\n",
    "•\tSort out the data using the ratings for each restaurant.\n",
    "•\tVisualize the ranking of neighborhoods using folium library."
   ]
  },
  {
   "cell_type": "code",
   "execution_count": 1,
   "metadata": {
    "colab": {},
    "colab_type": "code",
    "id": "Vg5ceWCn8Wt5",
    "outputId": "62396ece-5a68-4a5f-fce2-24a4b55eb7dd"
   },
   "outputs": [],
   "source": [
    "# Import required libraries\n",
    "\n",
    "import pandas as pd\n",
    "import numpy as np\n",
    "pd.set_option('display.max_columns', None)\n",
    "pd.set_option('display.max_rows', None)\n",
    "import requests\n",
    "from bs4 import BeautifulSoup\n",
    "import geocoder\n",
    "import os\n",
    "import folium # map rendering library\n",
    "from geopy.geocoders import Nominatim # convert an address into latitude and longitude values\n",
    "\n",
    "# Matplotlib and associated plotting modules\n",
    "import matplotlib.pyplot as plt\n",
    "import matplotlib.cm as cm\n",
    "import matplotlib.colors as colors\n",
    "%matplotlib inline"
   ]
  },
  {
   "cell_type": "code",
   "execution_count": 2,
   "metadata": {
    "colab": {},
    "colab_type": "code",
    "id": "o1LsuC5t8Wum"
   },
   "outputs": [],
   "source": [
    "#defining function to get the geocodes\n",
    "\n",
    "def geo_location(address):\n",
    "    # get geo location of address\n",
    "    geolocator = Nominatim(user_agent=\"ny_explorer\")\n",
    "    location = geolocator.geocode(address)\n",
    "    latitude = location.latitude\n",
    "    longitude = location.longitude\n",
    "    return latitude,longitude"
   ]
  },
  {
   "cell_type": "markdown",
   "metadata": {
    "colab_type": "text",
    "id": "FluGnZif8Wu3"
   },
   "source": [
    "Defining a function to interact with FourSquare API and return the venue id, name and category. In addition to getting the top 80 venues within a radius of 1000 metres for a given latitude and longitude."
   ]
  },
  {
   "cell_type": "code",
   "execution_count": 3,
   "metadata": {
    "colab": {},
    "colab_type": "code",
    "id": "fTRLLZSL8Wu9"
   },
   "outputs": [],
   "source": [
    "def get_venues(lat,lng):\n",
    "    \n",
    "    #set variables\n",
    "    radius=1000\n",
    "    LIMIT=80\n",
    "    CLIENT_ID = '0TJ0N4SVIH2EYPCXFJED4H3IPP035GTQNR5RZ1ZHCDMK4SIT' # Foursquare ID\n",
    "    CLIENT_SECRET = 'C4H3VV41IUTZOISNEFTVILOP1AXJKKOQ4MVTT3W2ZDTVL4SB' #  Foursquare Secret\n",
    "    VERSION = '20180605' # Foursquare API version\n",
    "    \n",
    "    #url to fetch data from foursquare api\n",
    "    url = 'https://api.foursquare.com/v2/venues/explore?&client_id={}&client_secret={}&v={}&ll={},{}&radius={}&limit={}'.format(\n",
    "            CLIENT_ID, \n",
    "            CLIENT_SECRET, \n",
    "            VERSION, \n",
    "            lat, \n",
    "            lng, \n",
    "            radius, \n",
    "            LIMIT)\n",
    "    \n",
    "    # get all the data\n",
    "    results = requests.get(url).json()\n",
    "    venue_data=results[\"response\"]['groups'][0]['items']\n",
    "    venue_details=[]\n",
    "    for row in venue_data:\n",
    "        try:\n",
    "            venue_id=row['venue']['id']\n",
    "            venue_name=row['venue']['name']\n",
    "            venue_category=row['venue']['categories'][0]['name']\n",
    "            venue_details.append([venue_id,venue_name,venue_category])\n",
    "        except KeyError:\n",
    "            pass\n",
    "        \n",
    "    column_names=['ID','Name','Category']\n",
    "    df = pd.DataFrame(venue_details,columns=column_names)\n",
    "    return df"
   ]
  },
  {
   "cell_type": "markdown",
   "metadata": {
    "colab_type": "text",
    "id": "ZsfUQOnl8WvO"
   },
   "source": [
    "Now defining a function that will be used for ranking to get venue details such as ratings,tip counts for a given venue id."
   ]
  },
  {
   "cell_type": "code",
   "execution_count": 4,
   "metadata": {
    "colab": {},
    "colab_type": "code",
    "id": "cwL_YQIu8WvV"
   },
   "outputs": [],
   "source": [
    "def get_venue_details(venue_id):\n",
    "        \n",
    "    CLIENT_ID = '0TJ0N4SVIH2EYPCXFJED4H3IPP035GTQNR5RZ1ZHCDMK4SIT' #  Foursquare ID\n",
    "    CLIENT_SECRET = 'C4H3VV41IUTZOISNEFTVILOP1AXJKKOQ4MVTT3W2ZDTVL4SB' #  Foursquare Secret\n",
    "    VERSION = '20180605' # Foursquare API version\n",
    "    \n",
    "    \n",
    "    #url to fetch data from foursquare api\n",
    "    url = 'https://api.foursquare.com/v2/venues/{}?&client_id={}&client_secret={}&v={}'.format(\n",
    "            venue_id,\n",
    "            CLIENT_ID, \n",
    "            CLIENT_SECRET, \n",
    "            VERSION)\n",
    "    \n",
    "    # get all the data\n",
    "    results = requests.get(url).json()\n",
    "    venue_data=results['response']['venue']\n",
    "    venue_details=[]\n",
    "    try:\n",
    "        venue_id=venue_data['id']\n",
    "        venue_name=venue_data['name']\n",
    "        venue_likes=venue_data['likes']['count']\n",
    "        venue_rating=venue_data['rating']\n",
    "        venue_tips=venue_data['tips']['count']\n",
    "        venue_details.append([venue_id,venue_name,venue_likes,venue_rating,venue_tips])\n",
    "    except KeyError:\n",
    "        pass\n",
    "        \n",
    "    column_names=['ID','Name','Likes','Rating','Tips']\n",
    "    df = pd.DataFrame(venue_details,columns=column_names)\n",
    "    return df"
   ]
  },
  {
   "cell_type": "markdown",
   "metadata": {
    "colab_type": "text",
    "id": "hc5WhvMW8Wvl"
   },
   "source": [
    "Going further Now we define a funtion to get the New York City data showing the Boroughs and Neighborhoods along with their respective latitudes and longitudes."
   ]
  },
  {
   "cell_type": "code",
   "execution_count": 5,
   "metadata": {
    "colab": {},
    "colab_type": "code",
    "id": "Q4rm0thC8Wvr"
   },
   "outputs": [],
   "source": [
    "def get_new_york_data():\n",
    "    url='https://cocl.us/new_york_dataset'\n",
    "    resp=requests.get(url).json()\n",
    "    # all data is present in features label\n",
    "    features=resp['features']\n",
    "    \n",
    "    # define the dataframe columns\n",
    "    column_names = ['Borough', 'Neighborhood', 'Latitude', 'Longitude'] \n",
    "    # instantiate the dataframe\n",
    "    new_york_data = pd.DataFrame(columns=column_names)\n",
    "    \n",
    "    for data in features:\n",
    "        borough = data['properties']['borough'] \n",
    "        neighborhood_name = data['properties']['name']\n",
    "        \n",
    "        neighborhood_latlon = data['geometry']['coordinates']\n",
    "        neighborhood_lat = neighborhood_latlon[1]\n",
    "        neighborhood_lon = neighborhood_latlon[0]\n",
    "    \n",
    "        new_york_data = new_york_data.append({'Borough': borough,\n",
    "                                          'Neighborhood': neighborhood_name,\n",
    "                                          'Latitude': neighborhood_lat,\n",
    "                                          'Longitude': neighborhood_lon}, ignore_index=True)\n",
    "    \n",
    "    return new_york_data"
   ]
  },
  {
   "cell_type": "code",
   "execution_count": 6,
   "metadata": {
    "colab": {},
    "colab_type": "code",
    "id": "agGm6lGi8WwL"
   },
   "outputs": [],
   "source": [
    "#Calling the aboove created function to get the data from Newyork city.\n",
    "\n",
    "new_york_data=get_new_york_data()"
   ]
  },
  {
   "cell_type": "markdown",
   "metadata": {},
   "source": [
    "### Data exploration"
   ]
  },
  {
   "cell_type": "code",
   "execution_count": 7,
   "metadata": {
    "colab": {},
    "colab_type": "code",
    "id": "PZJnxd7g8Wwq",
    "outputId": "f1875f74-b003-44a5-95c2-dc4a2123e532"
   },
   "outputs": [
    {
     "data": {
      "text/html": [
       "<div>\n",
       "<style scoped>\n",
       "    .dataframe tbody tr th:only-of-type {\n",
       "        vertical-align: middle;\n",
       "    }\n",
       "\n",
       "    .dataframe tbody tr th {\n",
       "        vertical-align: top;\n",
       "    }\n",
       "\n",
       "    .dataframe thead th {\n",
       "        text-align: right;\n",
       "    }\n",
       "</style>\n",
       "<table border=\"1\" class=\"dataframe\">\n",
       "  <thead>\n",
       "    <tr style=\"text-align: right;\">\n",
       "      <th></th>\n",
       "      <th>Borough</th>\n",
       "      <th>Neighborhood</th>\n",
       "      <th>Latitude</th>\n",
       "      <th>Longitude</th>\n",
       "    </tr>\n",
       "  </thead>\n",
       "  <tbody>\n",
       "    <tr>\n",
       "      <th>0</th>\n",
       "      <td>Bronx</td>\n",
       "      <td>Wakefield</td>\n",
       "      <td>40.894705</td>\n",
       "      <td>-73.847201</td>\n",
       "    </tr>\n",
       "    <tr>\n",
       "      <th>1</th>\n",
       "      <td>Bronx</td>\n",
       "      <td>Co-op City</td>\n",
       "      <td>40.874294</td>\n",
       "      <td>-73.829939</td>\n",
       "    </tr>\n",
       "    <tr>\n",
       "      <th>2</th>\n",
       "      <td>Bronx</td>\n",
       "      <td>Eastchester</td>\n",
       "      <td>40.887556</td>\n",
       "      <td>-73.827806</td>\n",
       "    </tr>\n",
       "    <tr>\n",
       "      <th>3</th>\n",
       "      <td>Bronx</td>\n",
       "      <td>Fieldston</td>\n",
       "      <td>40.895437</td>\n",
       "      <td>-73.905643</td>\n",
       "    </tr>\n",
       "    <tr>\n",
       "      <th>4</th>\n",
       "      <td>Bronx</td>\n",
       "      <td>Riverdale</td>\n",
       "      <td>40.890834</td>\n",
       "      <td>-73.912585</td>\n",
       "    </tr>\n",
       "  </tbody>\n",
       "</table>\n",
       "</div>"
      ],
      "text/plain": [
       "  Borough Neighborhood   Latitude  Longitude\n",
       "0   Bronx    Wakefield  40.894705 -73.847201\n",
       "1   Bronx   Co-op City  40.874294 -73.829939\n",
       "2   Bronx  Eastchester  40.887556 -73.827806\n",
       "3   Bronx    Fieldston  40.895437 -73.905643\n",
       "4   Bronx    Riverdale  40.890834 -73.912585"
      ]
     },
     "execution_count": 7,
     "metadata": {},
     "output_type": "execute_result"
    }
   ],
   "source": [
    "#top 5 rows of the data\n",
    "new_york_data.head()"
   ]
  },
  {
   "cell_type": "code",
   "execution_count": 9,
   "metadata": {
    "colab": {},
    "colab_type": "code",
    "id": "RjmkwgLP8WxJ",
    "outputId": "a22ff5dc-f7c3-4d88-d6f2-d099472f1a61"
   },
   "outputs": [
    {
     "data": {
      "text/plain": [
       "(306, 4)"
      ]
     },
     "execution_count": 9,
     "metadata": {},
     "output_type": "execute_result"
    }
   ],
   "source": [
    "#dimension of the data\n",
    "new_york_data.shape"
   ]
  },
  {
   "cell_type": "markdown",
   "metadata": {
    "colab_type": "text",
    "id": "toI0vrj88Wxd"
   },
   "source": [
    "This shows that there are 306 neighbourhoods in New York City within radius of 1000meters"
   ]
  },
  {
   "cell_type": "code",
   "execution_count": 10,
   "metadata": {
    "colab": {},
    "colab_type": "code",
    "id": "gWdu4hCZ8Wxn",
    "outputId": "f39ba382-914e-44cf-f7e0-56b9a6e14174"
   },
   "outputs": [
    {
     "data": {
      "image/png": "[encoded data removed]",
      "text/plain": [
       "<Figure size 900x500 with 1 Axes>"
      ]
     },
     "metadata": {
      "needs_background": "light"
     },
     "output_type": "display_data"
    }
   ],
   "source": [
    "#Plotiing to visualize the dataset\n",
    "\n",
    "plt.figure(figsize=(9,5), dpi = 100)\n",
    "# title\n",
    "plt.title('Number of Neighborhoods for each Borough in New York City')\n",
    "#On x-axis\n",
    "plt.xlabel('Borough name', fontsize = 15)\n",
    "#On y-axis\n",
    "plt.ylabel('Number of Neighborhoods', fontsize=15)\n",
    "#giving a bar plot\n",
    "new_york_data.groupby('Borough')['Neighborhood'].count().plot(kind='bar')\n",
    "#legend\n",
    "plt.legend()\n",
    "#displays the plot\n",
    "plt.show()"
   ]
  },
  {
   "cell_type": "markdown",
   "metadata": {
    "colab_type": "text",
    "id": "3AZY-6Ry8Wx7"
   },
   "source": [
    "From the above visualiaztion we can observe that Borough Queens has the highest number of neighborhoods when compared to the others.\n",
    "\n",
    "Now Lets narrow down to highlights the African resturants available in each of these neighbourhoods."
   ]
  },
  {
   "cell_type": "code",
   "execution_count": null,
   "metadata": {
    "colab": {},
    "colab_type": "code",
    "id": "ygcclQH68WyS",
    "outputId": "6dd90929-1b36-4b8f-b6a6-621f4886bfa9"
   },
   "outputs": [
    {
     "name": "stdout",
     "output_type": "stream",
     "text": [
      "( 1 / 306 ) African Resturants in Wakefield, Bronx:0\n",
      "( 2 / 306 ) African Resturants in Co-op City, Bronx:0\n",
      "( 3 / 306 ) African Resturants in Eastchester, Bronx:0\n",
      "( 4 / 306 ) African Resturants in Fieldston, Bronx:0\n",
      "( 5 / 306 ) African Resturants in Riverdale, Bronx:0\n",
      "( 6 / 306 ) African Resturants in Kingsbridge, Bronx:0\n",
      "( 7 / 306 ) African Resturants in Marble Hill, Manhattan:0\n",
      "( 8 / 306 ) African Resturants in Woodlawn, Bronx:0\n",
      "( 9 / 306 ) African Resturants in Norwood, Bronx:0\n",
      "( 10 / 306 ) African Resturants in Williamsbridge, Bronx:0\n",
      "( 11 / 306 ) African Resturants in Baychester, Bronx:0\n",
      "( 12 / 306 ) African Resturants in Pelham Parkway, Bronx:0\n",
      "( 13 / 306 ) African Resturants in City Island, Bronx:0\n",
      "( 14 / 306 ) African Resturants in Bedford Park, Bronx:0\n",
      "( 15 / 306 ) African Resturants in University Heights, Bronx:2\n",
      "( 16 / 306 ) African Resturants in Morris Heights, Bronx:0\n",
      "( 17 / 306 ) African Resturants in Fordham, Bronx:1\n",
      "( 18 / 306 ) African Resturants in East Tremont, Bronx:0\n",
      "( 19 / 306 ) African Resturants in West Farms, Bronx:0\n",
      "( 20 / 306 ) African Resturants in High  Bridge, Bronx:0\n",
      "( 21 / 306 ) African Resturants in Melrose, Bronx:0\n",
      "( 22 / 306 ) African Resturants in Mott Haven, Bronx:0\n",
      "( 23 / 306 ) African Resturants in Port Morris, Bronx:0\n",
      "( 24 / 306 ) African Resturants in Longwood, Bronx:0\n",
      "( 25 / 306 ) African Resturants in Hunts Point, Bronx:0\n",
      "( 26 / 306 ) African Resturants in Morrisania, Bronx:0\n",
      "( 27 / 306 ) African Resturants in Soundview, Bronx:0\n",
      "( 28 / 306 ) African Resturants in Clason Point, Bronx:0\n",
      "( 29 / 306 ) African Resturants in Throgs Neck, Bronx:0\n",
      "( 30 / 306 ) African Resturants in Country Club, Bronx:0\n",
      "( 31 / 306 ) African Resturants in Parkchester, Bronx:0\n",
      "( 32 / 306 ) African Resturants in Westchester Square, Bronx:0\n",
      "( 33 / 306 ) African Resturants in Van Nest, Bronx:0\n",
      "( 34 / 306 ) African Resturants in Morris Park, Bronx:0\n",
      "( 35 / 306 ) African Resturants in Belmont, Bronx:1\n",
      "( 36 / 306 ) African Resturants in Spuyten Duyvil, Bronx:0\n",
      "( 37 / 306 ) African Resturants in North Riverdale, Bronx:0\n",
      "( 38 / 306 ) African Resturants in Pelham Bay, Bronx:0\n",
      "( 39 / 306 ) African Resturants in Schuylerville, Bronx:0\n",
      "( 40 / 306 ) African Resturants in Edgewater Park, Bronx:0\n",
      "( 41 / 306 ) African Resturants in Castle Hill, Bronx:0\n",
      "( 42 / 306 ) African Resturants in Olinville, Bronx:0\n",
      "( 43 / 306 ) African Resturants in Pelham Gardens, Bronx:0\n",
      "( 44 / 306 ) African Resturants in Concourse, Bronx:0\n",
      "( 45 / 306 ) African Resturants in Unionport, Bronx:0\n",
      "( 46 / 306 ) African Resturants in Edenwald, Bronx:0\n",
      "( 47 / 306 ) African Resturants in Bay Ridge, Brooklyn:0\n",
      "( 48 / 306 ) African Resturants in Bensonhurst, Brooklyn:0\n",
      "( 49 / 306 ) African Resturants in Sunset Park, Brooklyn:0\n",
      "( 50 / 306 ) African Resturants in Greenpoint, Brooklyn:0\n",
      "( 51 / 306 ) African Resturants in Gravesend, Brooklyn:0\n",
      "( 52 / 306 ) African Resturants in Brighton Beach, Brooklyn:0\n",
      "( 53 / 306 ) African Resturants in Sheepshead Bay, Brooklyn:0\n",
      "( 54 / 306 ) African Resturants in Manhattan Terrace, Brooklyn:0\n",
      "( 55 / 306 ) African Resturants in Flatbush, Brooklyn:0\n",
      "( 56 / 306 ) African Resturants in Crown Heights, Brooklyn:1\n",
      "( 57 / 306 ) African Resturants in East Flatbush, Brooklyn:0\n",
      "( 58 / 306 ) African Resturants in Kensington, Brooklyn:0\n",
      "( 59 / 306 ) African Resturants in Windsor Terrace, Brooklyn:0\n",
      "( 60 / 306 ) African Resturants in Prospect Heights, Brooklyn:0\n",
      "( 61 / 306 ) African Resturants in Brownsville, Brooklyn:0\n",
      "( 62 / 306 ) African Resturants in Williamsburg, Brooklyn:0\n",
      "( 63 / 306 ) African Resturants in Bushwick, Brooklyn:0\n",
      "( 64 / 306 ) African Resturants in Bedford Stuyvesant, Brooklyn:0\n",
      "( 65 / 306 ) African Resturants in Brooklyn Heights, Brooklyn:0\n",
      "( 66 / 306 ) African Resturants in Cobble Hill, Brooklyn:0\n",
      "( 67 / 306 ) African Resturants in Carroll Gardens, Brooklyn:0\n",
      "( 68 / 306 ) African Resturants in Red Hook, Brooklyn:0\n",
      "( 69 / 306 ) African Resturants in Gowanus, Brooklyn:0\n",
      "( 70 / 306 ) African Resturants in Fort Greene, Brooklyn:0\n",
      "( 71 / 306 ) African Resturants in Park Slope, Brooklyn:0\n",
      "( 72 / 306 ) African Resturants in Cypress Hills, Brooklyn:0\n",
      "( 73 / 306 ) African Resturants in East New York, Brooklyn:0\n",
      "( 74 / 306 ) African Resturants in Starrett City, Brooklyn:0\n",
      "( 75 / 306 ) African Resturants in Canarsie, Brooklyn:0\n",
      "( 76 / 306 ) African Resturants in Flatlands, Brooklyn:0\n",
      "( 77 / 306 ) African Resturants in Mill Island, Brooklyn:0\n",
      "( 78 / 306 ) African Resturants in Manhattan Beach, Brooklyn:0\n",
      "( 79 / 306 ) African Resturants in Coney Island, Brooklyn:0\n",
      "( 80 / 306 ) African Resturants in Bath Beach, Brooklyn:0\n",
      "( 81 / 306 ) African Resturants in Borough Park, Brooklyn:0\n",
      "( 82 / 306 ) African Resturants in Dyker Heights, Brooklyn:0\n",
      "( 83 / 306 ) African Resturants in Gerritsen Beach, Brooklyn:0\n",
      "( 84 / 306 ) African Resturants in Marine Park, Brooklyn:0\n",
      "( 85 / 306 ) African Resturants in Clinton Hill, Brooklyn:0\n",
      "( 86 / 306 ) African Resturants in Sea Gate, Brooklyn:0\n",
      "( 87 / 306 ) African Resturants in Downtown, Brooklyn:0\n",
      "( 88 / 306 ) African Resturants in Boerum Hill, Brooklyn:0\n",
      "( 89 / 306 ) African Resturants in Prospect Lefferts Gardens, Brooklyn:0\n",
      "( 90 / 306 ) African Resturants in Ocean Hill, Brooklyn:0\n",
      "( 91 / 306 ) African Resturants in City Line, Brooklyn:0\n",
      "( 92 / 306 ) African Resturants in Bergen Beach, Brooklyn:0\n",
      "( 93 / 306 ) African Resturants in Midwood, Brooklyn:0\n",
      "( 94 / 306 ) African Resturants in Prospect Park South, Brooklyn:0\n",
      "( 95 / 306 ) African Resturants in Georgetown, Brooklyn:0\n",
      "( 96 / 306 ) African Resturants in East Williamsburg, Brooklyn:0\n",
      "( 97 / 306 ) African Resturants in North Side, Brooklyn:0\n",
      "( 98 / 306 ) African Resturants in South Side, Brooklyn:0\n",
      "( 99 / 306 ) African Resturants in Ocean Parkway, Brooklyn:0\n",
      "( 100 / 306 ) African Resturants in Fort Hamilton, Brooklyn:0\n",
      "( 101 / 306 ) African Resturants in Chinatown, Manhattan:0\n",
      "( 102 / 306 ) African Resturants in Washington Heights, Manhattan:0\n",
      "( 103 / 306 ) African Resturants in Inwood, Manhattan:0\n",
      "( 104 / 306 ) African Resturants in Hamilton Heights, Manhattan:1\n",
      "( 105 / 306 ) African Resturants in Manhattanville, Manhattan:0\n",
      "( 106 / 306 ) African Resturants in Central Harlem, Manhattan:4\n",
      "( 107 / 306 ) African Resturants in East Harlem, Manhattan:0\n",
      "( 108 / 306 ) African Resturants in Upper East Side, Manhattan:0\n",
      "( 109 / 306 ) African Resturants in Yorkville, Manhattan:0\n",
      "( 110 / 306 ) African Resturants in Lenox Hill, Manhattan:0\n",
      "( 111 / 306 ) African Resturants in Roosevelt Island, Manhattan:0\n",
      "( 112 / 306 ) African Resturants in Upper West Side, Manhattan:0\n",
      "( 113 / 306 ) African Resturants in Lincoln Square, Manhattan:0\n",
      "( 114 / 306 ) African Resturants in Clinton, Manhattan:0\n",
      "( 115 / 306 ) African Resturants in Midtown, Manhattan:0\n",
      "( 116 / 306 ) African Resturants in Murray Hill, Manhattan:0\n",
      "( 117 / 306 ) African Resturants in Chelsea, Manhattan:0\n",
      "( 118 / 306 ) African Resturants in Greenwich Village, Manhattan:0\n",
      "( 119 / 306 ) African Resturants in East Village, Manhattan:0\n",
      "( 120 / 306 ) African Resturants in Lower East Side, Manhattan:0\n",
      "( 121 / 306 ) African Resturants in Tribeca, Manhattan:0\n",
      "( 122 / 306 ) African Resturants in Little Italy, Manhattan:0\n",
      "( 123 / 306 ) African Resturants in Soho, Manhattan:0\n",
      "( 124 / 306 ) African Resturants in West Village, Manhattan:0\n",
      "( 125 / 306 ) African Resturants in Manhattan Valley, Manhattan:0\n",
      "( 126 / 306 ) African Resturants in Morningside Heights, Manhattan:0\n",
      "( 127 / 306 ) African Resturants in Gramercy, Manhattan:0\n",
      "( 128 / 306 ) African Resturants in Battery Park City, Manhattan:0\n",
      "( 129 / 306 ) African Resturants in Financial District, Manhattan:0\n",
      "( 130 / 306 ) African Resturants in Astoria, Queens:0\n",
      "( 131 / 306 ) African Resturants in Woodside, Queens:0\n",
      "( 132 / 306 ) African Resturants in Jackson Heights, Queens:0\n",
      "( 133 / 306 ) African Resturants in Elmhurst, Queens:0\n",
      "( 134 / 306 ) African Resturants in Howard Beach, Queens:0\n",
      "( 135 / 306 ) African Resturants in Corona, Queens:0\n",
      "( 136 / 306 ) African Resturants in Forest Hills, Queens:0\n",
      "( 137 / 306 ) African Resturants in Kew Gardens, Queens:0\n",
      "( 138 / 306 ) African Resturants in Richmond Hill, Queens:0\n",
      "( 139 / 306 ) African Resturants in Flushing, Queens:0\n",
      "( 140 / 306 ) African Resturants in Long Island City, Queens:0\n",
      "( 141 / 306 ) African Resturants in Sunnyside, Queens:0\n",
      "( 142 / 306 ) African Resturants in East Elmhurst, Queens:0\n",
      "( 143 / 306 ) African Resturants in Maspeth, Queens:0\n",
      "( 144 / 306 ) African Resturants in Ridgewood, Queens:0\n",
      "( 145 / 306 ) African Resturants in Glendale, Queens:0\n",
      "( 146 / 306 ) African Resturants in Rego Park, Queens:0\n",
      "( 147 / 306 ) African Resturants in Woodhaven, Queens:0\n",
      "( 148 / 306 ) African Resturants in Ozone Park, Queens:0\n",
      "( 149 / 306 ) African Resturants in South Ozone Park, Queens:0\n",
      "( 150 / 306 ) African Resturants in College Point, Queens:0\n",
      "( 151 / 306 ) African Resturants in Whitestone, Queens:0\n",
      "( 152 / 306 ) African Resturants in Bayside, Queens:0\n",
      "( 153 / 306 ) African Resturants in Auburndale, Queens:0\n",
      "( 154 / 306 ) African Resturants in Little Neck, Queens:0\n",
      "( 155 / 306 ) African Resturants in Douglaston, Queens:0\n",
      "( 156 / 306 ) African Resturants in Glen Oaks, Queens:0\n",
      "( 157 / 306 ) African Resturants in Bellerose, Queens:0\n",
      "( 158 / 306 ) African Resturants in Kew Gardens Hills, Queens:0\n",
      "( 159 / 306 ) African Resturants in Fresh Meadows, Queens:0\n",
      "( 160 / 306 ) African Resturants in Briarwood, Queens:0\n",
      "( 161 / 306 ) African Resturants in Jamaica Center, Queens:0\n",
      "( 162 / 306 ) African Resturants in Oakland Gardens, Queens:0\n",
      "( 163 / 306 ) African Resturants in Queens Village, Queens:0\n",
      "( 164 / 306 ) African Resturants in Hollis, Queens:0\n",
      "( 165 / 306 ) African Resturants in South Jamaica, Queens:0\n",
      "( 166 / 306 ) African Resturants in St. Albans, Queens:0\n",
      "( 167 / 306 ) African Resturants in Rochdale, Queens:0\n",
      "( 168 / 306 ) African Resturants in Springfield Gardens, Queens:0\n",
      "( 169 / 306 ) African Resturants in Cambria Heights, Queens:0\n",
      "( 170 / 306 ) African Resturants in Rosedale, Queens:0\n",
      "( 171 / 306 ) African Resturants in Far Rockaway, Queens:0\n",
      "( 172 / 306 ) African Resturants in Broad Channel, Queens:0\n",
      "( 173 / 306 ) African Resturants in Breezy Point, Queens:0\n",
      "( 174 / 306 ) African Resturants in Steinway, Queens:0\n",
      "( 175 / 306 ) African Resturants in Beechhurst, Queens:0\n",
      "( 176 / 306 ) African Resturants in Bay Terrace, Queens:0\n",
      "( 177 / 306 ) African Resturants in Edgemere, Queens:0\n",
      "( 178 / 306 ) African Resturants in Arverne, Queens:0\n",
      "( 179 / 306 ) African Resturants in Rockaway Beach, Queens:0\n",
      "( 180 / 306 ) African Resturants in Neponsit, Queens:0\n",
      "( 181 / 306 ) African Resturants in Murray Hill, Queens:0\n",
      "( 182 / 306 ) African Resturants in Floral Park, Queens:0\n",
      "( 183 / 306 ) African Resturants in Holliswood, Queens:0\n",
      "( 184 / 306 ) African Resturants in Jamaica Estates, Queens:0\n",
      "( 185 / 306 ) African Resturants in Queensboro Hill, Queens:0\n",
      "( 186 / 306 ) African Resturants in Hillcrest, Queens:0\n",
      "( 187 / 306 ) African Resturants in Ravenswood, Queens:0\n",
      "( 188 / 306 ) African Resturants in Lindenwood, Queens:0\n",
      "( 189 / 306 ) African Resturants in Laurelton, Queens:0\n",
      "( 190 / 306 ) African Resturants in Lefrak City, Queens:0\n",
      "( 191 / 306 ) African Resturants in Belle Harbor, Queens:0\n",
      "( 192 / 306 ) African Resturants in Rockaway Park, Queens:0\n",
      "( 193 / 306 ) African Resturants in Somerville, Queens:0\n",
      "( 194 / 306 ) African Resturants in Brookville, Queens:0\n",
      "( 195 / 306 ) African Resturants in Bellaire, Queens:0\n",
      "( 196 / 306 ) African Resturants in North Corona, Queens:0\n",
      "( 197 / 306 ) African Resturants in Forest Hills Gardens, Queens:0\n",
      "( 198 / 306 ) African Resturants in St. George, Staten Island:0\n",
      "( 199 / 306 ) African Resturants in New Brighton, Staten Island:0\n",
      "( 200 / 306 ) African Resturants in Stapleton, Staten Island:0\n",
      "( 201 / 306 ) African Resturants in Rosebank, Staten Island:0\n",
      "( 202 / 306 ) African Resturants in West Brighton, Staten Island:0\n",
      "( 203 / 306 ) African Resturants in Grymes Hill, Staten Island:0\n",
      "( 204 / 306 ) African Resturants in Todt Hill, Staten Island:0\n",
      "( 205 / 306 ) African Resturants in South Beach, Staten Island:0\n",
      "( 206 / 306 ) African Resturants in Port Richmond, Staten Island:0\n",
      "( 207 / 306 ) African Resturants in Mariner's Harbor, Staten Island:0\n",
      "( 208 / 306 ) African Resturants in Port Ivory, Staten Island:0\n",
      "( 209 / 306 ) African Resturants in Castleton Corners, Staten Island:0\n",
      "( 210 / 306 ) African Resturants in New Springville, Staten Island:0\n",
      "( 211 / 306 ) African Resturants in Travis, Staten Island:0\n",
      "( 212 / 306 ) African Resturants in New Dorp, Staten Island:0\n",
      "( 213 / 306 ) African Resturants in Oakwood, Staten Island:0\n",
      "( 214 / 306 ) African Resturants in Great Kills, Staten Island:0\n",
      "( 215 / 306 ) African Resturants in Eltingville, Staten Island:0\n",
      "( 216 / 306 ) African Resturants in Annadale, Staten Island:0\n",
      "( 217 / 306 ) African Resturants in Woodrow, Staten Island:0\n",
      "( 218 / 306 ) African Resturants in Tottenville, Staten Island:0\n",
      "( 219 / 306 ) African Resturants in Tompkinsville, Staten Island:0\n",
      "( 220 / 306 ) African Resturants in Silver Lake, Staten Island:0\n",
      "( 221 / 306 ) African Resturants in Sunnyside, Staten Island:0\n",
      "( 222 / 306 ) African Resturants in Ditmas Park, Brooklyn:0\n",
      "( 223 / 306 ) African Resturants in Wingate, Brooklyn:0\n",
      "( 224 / 306 ) African Resturants in Rugby, Brooklyn:0\n",
      "( 225 / 306 ) African Resturants in Park Hill, Staten Island:0\n",
      "( 226 / 306 ) African Resturants in Westerleigh, Staten Island:0\n",
      "( 227 / 306 ) African Resturants in Graniteville, Staten Island:0\n",
      "( 228 / 306 ) African Resturants in Arlington, Staten Island:0\n",
      "( 229 / 306 ) African Resturants in Arrochar, Staten Island:0\n",
      "( 230 / 306 ) African Resturants in Grasmere, Staten Island:0\n",
      "( 231 / 306 ) African Resturants in Old Town, Staten Island:0\n",
      "( 232 / 306 ) African Resturants in Dongan Hills, Staten Island:0\n",
      "( 233 / 306 ) African Resturants in Midland Beach, Staten Island:0\n",
      "( 234 / 306 ) African Resturants in Grant City, Staten Island:0\n",
      "( 235 / 306 ) African Resturants in New Dorp Beach, Staten Island:0\n",
      "( 236 / 306 ) African Resturants in Bay Terrace, Staten Island:0\n",
      "( 237 / 306 ) African Resturants in Huguenot, Staten Island:0\n",
      "( 238 / 306 ) African Resturants in Pleasant Plains, Staten Island:0\n",
      "( 239 / 306 ) African Resturants in Butler Manor, Staten Island:0\n",
      "( 240 / 306 ) African Resturants in Charleston, Staten Island:0\n",
      "( 241 / 306 ) African Resturants in Rossville, Staten Island:0\n",
      "( 242 / 306 ) African Resturants in Arden Heights, Staten Island:0\n",
      "( 243 / 306 ) African Resturants in Greenridge, Staten Island:0\n",
      "( 244 / 306 ) African Resturants in Heartland Village, Staten Island:0\n",
      "( 245 / 306 ) African Resturants in Chelsea, Staten Island:0\n",
      "( 246 / 306 ) African Resturants in Bloomfield, Staten Island:0\n",
      "( 247 / 306 ) African Resturants in Bulls Head, Staten Island:0\n",
      "( 248 / 306 ) African Resturants in Carnegie Hill, Manhattan:0\n",
      "( 249 / 306 ) African Resturants in Noho, Manhattan:0\n",
      "( 250 / 306 ) African Resturants in Civic Center, Manhattan:0\n",
      "( 251 / 306 ) African Resturants in Midtown South, Manhattan:0\n",
      "( 252 / 306 ) African Resturants in Richmond Town, Staten Island:0\n",
      "( 253 / 306 ) African Resturants in Shore Acres, Staten Island:0\n",
      "( 254 / 306 ) African Resturants in Clifton, Staten Island:0\n",
      "( 255 / 306 ) African Resturants in Concord, Staten Island:0\n",
      "( 256 / 306 ) African Resturants in Emerson Hill, Staten Island:0\n",
      "( 257 / 306 ) African Resturants in Randall Manor, Staten Island:0\n",
      "( 258 / 306 ) African Resturants in Howland Hook, Staten Island:0\n",
      "( 259 / 306 ) African Resturants in Elm Park, Staten Island:0\n",
      "( 260 / 306 ) African Resturants in Remsen Village, Brooklyn:0\n",
      "( 261 / 306 ) African Resturants in New Lots, Brooklyn:0\n",
      "( 262 / 306 ) African Resturants in Paerdegat Basin, Brooklyn:0\n",
      "( 263 / 306 ) African Resturants in Mill Basin, Brooklyn:0\n",
      "( 264 / 306 ) African Resturants in Jamaica Hills, Queens:0\n",
      "( 265 / 306 ) African Resturants in Utopia, Queens:0\n",
      "( 266 / 306 ) African Resturants in Pomonok, Queens:0\n",
      "( 267 / 306 ) African Resturants in Astoria Heights, Queens:0\n",
      "( 268 / 306 ) African Resturants in Claremont Village, Bronx:0\n",
      "( 269 / 306 ) African Resturants in Concourse Village, Bronx:0\n",
      "( 270 / 306 ) African Resturants in Mount Eden, Bronx:0\n",
      "( 271 / 306 ) African Resturants in Mount Hope, Bronx:1\n",
      "( 272 / 306 ) African Resturants in Sutton Place, Manhattan:0\n",
      "( 273 / 306 ) African Resturants in Hunters Point, Queens:0\n",
      "( 274 / 306 ) African Resturants in Turtle Bay, Manhattan:0\n",
      "( 275 / 306 ) African Resturants in Tudor City, Manhattan:0\n",
      "( 276 / 306 ) African Resturants in Stuyvesant Town, Manhattan:0\n",
      "( 277 / 306 ) African Resturants in Flatiron, Manhattan:0\n",
      "( 278 / 306 ) African Resturants in Sunnyside Gardens, Queens:0\n",
      "( 279 / 306 ) African Resturants in Blissville, Queens:0\n",
      "( 280 / 306 ) African Resturants in Fulton Ferry, Brooklyn:0\n",
      "( 281 / 306 ) African Resturants in Vinegar Hill, Brooklyn:0\n",
      "( 282 / 306 ) African Resturants in Weeksville, Brooklyn:0\n",
      "( 283 / 306 ) African Resturants in Broadway Junction, Brooklyn:0\n",
      "( 284 / 306 ) African Resturants in Dumbo, Brooklyn:0\n",
      "( 285 / 306 ) African Resturants in Manor Heights, Staten Island:0\n",
      "( 286 / 306 ) African Resturants in Willowbrook, Staten Island:0\n",
      "( 287 / 306 ) African Resturants in Sandy Ground, Staten Island:0\n",
      "( 288 / 306 ) African Resturants in Egbertville, Staten Island:0\n",
      "( 289 / 306 ) African Resturants in Roxbury, Queens:0\n",
      "( 290 / 306 ) African Resturants in Homecrest, Brooklyn:0\n",
      "( 291 / 306 ) African Resturants in Middle Village, Queens:0\n",
      "( 292 / 306 ) African Resturants in Prince's Bay, Staten Island:0\n",
      "( 293 / 306 ) African Resturants in Lighthouse Hill, Staten Island:0\n",
      "( 294 / 306 ) African Resturants in Richmond Valley, Staten Island:0\n",
      "( 295 / 306 ) African Resturants in Malba, Queens:0\n",
      "( 296 / 306 ) African Resturants in Highland Park, Brooklyn:1\n",
      "( 297 / 306 ) African Resturants in Madison, Brooklyn:0\n",
      "( 298 / 306 ) African Resturants in Bronxdale, Bronx:0\n",
      "( 299 / 306 ) African Resturants in Allerton, Bronx:0\n",
      "( 300 / 306 ) African Resturants in Kingsbridge Heights, Bronx:0\n",
      "( 301 / 306 ) African Resturants in Erasmus, Brooklyn:0\n",
      "( 302 / 306 ) African Resturants in Hudson Yards, Manhattan:0\n",
      "( 303 / 306 ) African Resturants in Hammels, Queens:0\n",
      "( 304 / 306 ) African Resturants in Bayswater, Queens:0\n",
      "( 305 / 306 ) African Resturants in Queensbridge, Queens:0\n",
      "( 306 / 306 ) African Resturants in Fox Hills, Staten Island:0\n"
     ]
    }
   ],
   "source": [
    "# prepare neighborhood list that contains african restaurants\n",
    "column_names=['Borough', 'Neighborhood', 'ID','Name']\n",
    "african_rest_ny=pd.DataFrame(columns=column_names)\n",
    "count=1\n",
    "for row in new_york_data.values.tolist():\n",
    "    Borough, Neighborhood, Latitude, Longitude=row\n",
    "    venues = get_venues(Latitude,Longitude)\n",
    "    african_resturants=venues[venues['Category']=='African Restaurant']   \n",
    "    print('(',count,'/',len(new_york_data),')','African Resturants in '+Neighborhood+', '+Borough+':'+str(len(african_resturants)))\n",
    "    for resturant_detail in african_resturants.values.tolist():\n",
    "        id, name , category=resturant_detail\n",
    "        african_rest_ny = african_rest_ny.append({'Borough': Borough,\n",
    "                                                'Neighborhood': Neighborhood, \n",
    "                                                'ID': id,\n",
    "                                                'Name' : name\n",
    "                                               }, ignore_index=True)\n",
    "    count+=1"
   ]
  },
  {
   "cell_type": "code",
   "execution_count": null,
   "metadata": {
    "colab": {},
    "colab_type": "code",
    "id": "9-1Nawvr8Wym",
    "outputId": "66033f99-ce4e-4881-bb47-9a7d08c2f885"
   },
   "outputs": [
    {
     "data": {
      "text/html": [
       "<div>\n",
       "<style scoped>\n",
       "    .dataframe tbody tr th:only-of-type {\n",
       "        vertical-align: middle;\n",
       "    }\n",
       "\n",
       "    .dataframe tbody tr th {\n",
       "        vertical-align: top;\n",
       "    }\n",
       "\n",
       "    .dataframe thead th {\n",
       "        text-align: right;\n",
       "    }\n",
       "</style>\n",
       "<table border=\"1\" class=\"dataframe\">\n",
       "  <thead>\n",
       "    <tr style=\"text-align: right;\">\n",
       "      <th></th>\n",
       "      <th>Borough</th>\n",
       "      <th>Neighborhood</th>\n",
       "      <th>ID</th>\n",
       "      <th>Name</th>\n",
       "    </tr>\n",
       "  </thead>\n",
       "  <tbody>\n",
       "    <tr>\n",
       "      <th>0</th>\n",
       "      <td>Bronx</td>\n",
       "      <td>University Heights</td>\n",
       "      <td>4c2f8b1b7cc0c9b6a1eaeb9a</td>\n",
       "      <td>Accra Resturant</td>\n",
       "    </tr>\n",
       "    <tr>\n",
       "      <th>1</th>\n",
       "      <td>Bronx</td>\n",
       "      <td>University Heights</td>\n",
       "      <td>4cb2beaadedbef3bca7c9d40</td>\n",
       "      <td>Papaye Restaurant</td>\n",
       "    </tr>\n",
       "    <tr>\n",
       "      <th>2</th>\n",
       "      <td>Bronx</td>\n",
       "      <td>Fordham</td>\n",
       "      <td>4cb2beaadedbef3bca7c9d40</td>\n",
       "      <td>Papaye Restaurant</td>\n",
       "    </tr>\n",
       "    <tr>\n",
       "      <th>3</th>\n",
       "      <td>Bronx</td>\n",
       "      <td>Belmont</td>\n",
       "      <td>4cb2beaadedbef3bca7c9d40</td>\n",
       "      <td>Papaye Restaurant</td>\n",
       "    </tr>\n",
       "    <tr>\n",
       "      <th>4</th>\n",
       "      <td>Brooklyn</td>\n",
       "      <td>Crown Heights</td>\n",
       "      <td>51d4d2cc454a777ed5a76c57</td>\n",
       "      <td>Cafe Rue Dix</td>\n",
       "    </tr>\n",
       "  </tbody>\n",
       "</table>\n",
       "</div>"
      ],
      "text/plain": [
       "    Borough        Neighborhood                        ID               Name\n",
       "0     Bronx  University Heights  4c2f8b1b7cc0c9b6a1eaeb9a    Accra Resturant\n",
       "1     Bronx  University Heights  4cb2beaadedbef3bca7c9d40  Papaye Restaurant\n",
       "2     Bronx             Fordham  4cb2beaadedbef3bca7c9d40  Papaye Restaurant\n",
       "3     Bronx             Belmont  4cb2beaadedbef3bca7c9d40  Papaye Restaurant\n",
       "4  Brooklyn       Crown Heights  51d4d2cc454a777ed5a76c57       Cafe Rue Dix"
      ]
     },
     "execution_count": 96,
     "metadata": {
      "tags": []
     },
     "output_type": "execute_result"
    }
   ],
   "source": [
    "african_rest_ny.head()"
   ]
  },
  {
   "cell_type": "code",
   "execution_count": null,
   "metadata": {
    "colab": {},
    "colab_type": "code",
    "id": "jlafMbvy8Wy7",
    "outputId": "ea1591c5-4894-4f35-c3d5-b24ff64dc02c"
   },
   "outputs": [
    {
     "data": {
      "text/plain": [
       "(12, 4)"
      ]
     },
     "execution_count": 97,
     "metadata": {
      "tags": []
     },
     "output_type": "execute_result"
    }
   ],
   "source": [
    "african_rest_ny.shape"
   ]
  },
  {
   "cell_type": "markdown",
   "metadata": {
    "colab_type": "text",
    "id": "Oq9MYFCl8WzW"
   },
   "source": [
    "We got a paltry 12 African Resturants across New York City"
   ]
  },
  {
   "cell_type": "code",
   "execution_count": null,
   "metadata": {
    "colab": {},
    "colab_type": "code",
    "id": "QdlshjhC8Wzf",
    "outputId": "c5d2eec8-fdef-471e-ec76-4e95aa9d94a3"
   },
   "outputs": [
    {
     "data": {
      "image/png": "[encoded data removed]",
      "text/plain": [
       "<Figure size 900x500 with 1 Axes>"
      ]
     },
     "metadata": {
      "needs_background": "light",
      "tags": []
     },
     "output_type": "display_data"
    }
   ],
   "source": [
    "plt.figure(figsize=(9,5), dpi = 100)\n",
    "# title\n",
    "plt.title('Number of African Resturants for each Borough in New York City')\n",
    "#On x-axis\n",
    "plt.xlabel('Borough', fontsize = 15)\n",
    "#On y-axis\n",
    "plt.ylabel('No.of African Resturants', fontsize=15)\n",
    "#giving a bar plot\n",
    "african_rest_ny.groupby('Borough')['ID'].count().plot(kind='bar')\n",
    "#legend\n",
    "plt.legend()\n",
    "#displays the plot\n",
    "plt.show()"
   ]
  },
  {
   "cell_type": "markdown",
   "metadata": {
    "colab_type": "text",
    "id": "8-WFOxSW8Wz7"
   },
   "source": [
    "We see that Bronx and Manhattan have the largest number of African resturants"
   ]
  },
  {
   "cell_type": "code",
   "execution_count": null,
   "metadata": {
    "colab": {},
    "colab_type": "code",
    "id": "vQtF9t6F8Wz_",
    "outputId": "9bb19e19-1570-449a-cd2a-a5042bcd73e4"
   },
   "outputs": [
    {
     "data": {
      "image/png": "[encoded data removed]",
      "text/plain": [
       "<Figure size 900x500 with 1 Axes>"
      ]
     },
     "metadata": {
      "needs_background": "light",
      "tags": []
     },
     "output_type": "display_data"
    }
   ],
   "source": [
    "plt.figure(figsize=(9,5), dpi = 100)\n",
    "# title\n",
    "plt.title('Number of African Resturants for each Neighborhood in New York City')\n",
    "#On x-axis\n",
    "plt.xlabel('Neighborhood', fontsize = 15)\n",
    "#On y-axis\n",
    "plt.ylabel('No.of African Resturants', fontsize=15)\n",
    "#giving a bar plot\n",
    "african_rest_ny.groupby('Neighborhood')['ID'].count().nlargest(5).plot(kind='bar')\n",
    "#legend\n",
    "plt.legend()\n",
    "#displays the plot\n",
    "plt.show()"
   ]
  },
  {
   "cell_type": "code",
   "execution_count": null,
   "metadata": {
    "colab": {},
    "colab_type": "code",
    "id": "0nhiVkSG8W0U",
    "outputId": "8ec1cb2e-8678-426e-d0cc-9acc93c62410"
   },
   "outputs": [
    {
     "data": {
      "text/html": [
       "<div>\n",
       "<style scoped>\n",
       "    .dataframe tbody tr th:only-of-type {\n",
       "        vertical-align: middle;\n",
       "    }\n",
       "\n",
       "    .dataframe tbody tr th {\n",
       "        vertical-align: top;\n",
       "    }\n",
       "\n",
       "    .dataframe thead th {\n",
       "        text-align: right;\n",
       "    }\n",
       "</style>\n",
       "<table border=\"1\" class=\"dataframe\">\n",
       "  <thead>\n",
       "    <tr style=\"text-align: right;\">\n",
       "      <th></th>\n",
       "      <th>Borough</th>\n",
       "      <th>Neighborhood</th>\n",
       "      <th>ID</th>\n",
       "      <th>Name</th>\n",
       "    </tr>\n",
       "  </thead>\n",
       "  <tbody>\n",
       "    <tr>\n",
       "      <th>6</th>\n",
       "      <td>Manhattan</td>\n",
       "      <td>Central Harlem</td>\n",
       "      <td>53e01975498e78c0915599bf</td>\n",
       "      <td>Ponty Bistro Harlem</td>\n",
       "    </tr>\n",
       "    <tr>\n",
       "      <th>7</th>\n",
       "      <td>Manhattan</td>\n",
       "      <td>Central Harlem</td>\n",
       "      <td>4c2fdced452620a120551e0f</td>\n",
       "      <td>Keur Sokhna</td>\n",
       "    </tr>\n",
       "    <tr>\n",
       "      <th>8</th>\n",
       "      <td>Manhattan</td>\n",
       "      <td>Central Harlem</td>\n",
       "      <td>4a9ea132f964a520ad3a20e3</td>\n",
       "      <td>Africa Kine Restaurant</td>\n",
       "    </tr>\n",
       "    <tr>\n",
       "      <th>9</th>\n",
       "      <td>Manhattan</td>\n",
       "      <td>Central Harlem</td>\n",
       "      <td>5004a9e5e4b034c2950659fd</td>\n",
       "      <td>Les Ambassades Senegalais Bistro</td>\n",
       "    </tr>\n",
       "  </tbody>\n",
       "</table>\n",
       "</div>"
      ],
      "text/plain": [
       "     Borough    Neighborhood                        ID  \\\n",
       "6  Manhattan  Central Harlem  53e01975498e78c0915599bf   \n",
       "7  Manhattan  Central Harlem  4c2fdced452620a120551e0f   \n",
       "8  Manhattan  Central Harlem  4a9ea132f964a520ad3a20e3   \n",
       "9  Manhattan  Central Harlem  5004a9e5e4b034c2950659fd   \n",
       "\n",
       "                               Name  \n",
       "6               Ponty Bistro Harlem  \n",
       "7                       Keur Sokhna  \n",
       "8            Africa Kine Restaurant  \n",
       "9  Les Ambassades Senegalais Bistro  "
      ]
     },
     "execution_count": 100,
     "metadata": {
      "tags": []
     },
     "output_type": "execute_result"
    }
   ],
   "source": [
    "african_rest_ny[african_rest_ny['Neighborhood']=='Central Harlem']"
   ]
  },
  {
   "cell_type": "markdown",
   "metadata": {
    "colab_type": "text",
    "id": "U9ktCxJf8W0n"
   },
   "source": [
    "So Central harlem and University Heights have got the highest number of African Resturants with a total count of 6.\n",
    "\n",
    "Now we will get the ranking of each resturant for further analysis."
   ]
  },
  {
   "cell_type": "code",
   "execution_count": null,
   "metadata": {
    "colab": {},
    "colab_type": "code",
    "id": "G9927Qlw8W0s",
    "outputId": "e0ba2f53-2010-4f1b-f0a3-769217185ad9"
   },
   "outputs": [
    {
     "name": "stdout",
     "output_type": "stream",
     "text": [
      "                         ID             Name  Likes  Rating  Tips\n",
      "0  4c2f8b1b7cc0c9b6a1eaeb9a  Accra Resturant      9     6.8     3\n",
      "( 1 / 12 ) processed\n",
      "                         ID               Name  Likes  Rating  Tips\n",
      "0  4cb2beaadedbef3bca7c9d40  Papaye Restaurant     11     7.8     3\n",
      "( 2 / 12 ) processed\n",
      "                         ID               Name  Likes  Rating  Tips\n",
      "0  4cb2beaadedbef3bca7c9d40  Papaye Restaurant     11     7.8     3\n",
      "( 3 / 12 ) processed\n",
      "                         ID               Name  Likes  Rating  Tips\n",
      "0  4cb2beaadedbef3bca7c9d40  Papaye Restaurant     11     7.8     3\n",
      "( 4 / 12 ) processed\n",
      "                         ID          Name  Likes  Rating  Tips\n",
      "0  51d4d2cc454a777ed5a76c57  Cafe Rue Dix    198     8.6    57\n",
      "( 5 / 12 ) processed\n",
      "                         ID                 Name  Likes  Rating  Tips\n",
      "0  53e01975498e78c0915599bf  Ponty Bistro Harlem    101     8.6    29\n",
      "( 6 / 12 ) processed\n",
      "                         ID                 Name  Likes  Rating  Tips\n",
      "0  53e01975498e78c0915599bf  Ponty Bistro Harlem    101     8.6    29\n",
      "( 7 / 12 ) processed\n",
      "                         ID         Name  Likes  Rating  Tips\n",
      "0  4c2fdced452620a120551e0f  Keur Sokhna     12     7.7     8\n",
      "( 8 / 12 ) processed\n",
      "                         ID                    Name  Likes  Rating  Tips\n",
      "0  4a9ea132f964a520ad3a20e3  Africa Kine Restaurant     34     7.2    32\n",
      "( 9 / 12 ) processed\n",
      "                         ID                              Name  Likes  Rating  \\\n",
      "0  5004a9e5e4b034c2950659fd  Les Ambassades Senegalais Bistro     26     7.3   \n",
      "\n",
      "   Tips  \n",
      "0    11  \n",
      "( 10 / 12 ) processed\n",
      "                         ID             Name  Likes  Rating  Tips\n",
      "0  4c2f8b1b7cc0c9b6a1eaeb9a  Accra Resturant      9     6.8     3\n",
      "( 11 / 12 ) processed\n",
      "                         ID          Name  Likes  Rating  Tips\n",
      "0  4b1eefb3f964a520c72124e3  Festac Grill      8     6.3    10\n",
      "( 12 / 12 ) processed\n"
     ]
    }
   ],
   "source": [
    "# prepare neighborhood list that contains african resturants\n",
    "column_names=['Borough', 'Neighborhood', 'ID','Name','Likes','Rating','Tips']\n",
    "african_rest_stats_ny=pd.DataFrame(columns=column_names)\n",
    "count=1\n",
    "\n",
    "\n",
    "for row in african_rest_ny.values.tolist():\n",
    "    Borough,Neighborhood,ID,Name=row\n",
    "    try:\n",
    "        venue_details=get_venue_details(ID)\n",
    "        print(venue_details)\n",
    "        id,name,likes,rating,tips=venue_details.values.tolist()[0]\n",
    "    except IndexError:\n",
    "        print('No data available for id=',ID)\n",
    "        # we will assign 0 value for these resturants as they may have been \n",
    "        #recently opened or details does not exist in FourSquare Database\n",
    "        id,name,likes,rating,tips=[0]*5\n",
    "    print('(',count,'/',len(african_rest_ny),')','processed')\n",
    "    african_rest_stats_ny = african_rest_stats_ny.append({'Borough': Borough,\n",
    "                                                'Neighborhood': Neighborhood, \n",
    "                                                'ID': id,\n",
    "                                                'Name' : name,\n",
    "                                                'Likes' : likes,\n",
    "                                                'Rating' : rating,\n",
    "                                                'Tips' : tips\n",
    "                                               }, ignore_index=True)\n",
    "    count+=1"
   ]
  },
  {
   "cell_type": "code",
   "execution_count": null,
   "metadata": {
    "colab": {},
    "colab_type": "code",
    "id": "xUzzMi_88W1A",
    "outputId": "38a89759-c9d7-46c3-a9ab-21218c4e5818"
   },
   "outputs": [
    {
     "data": {
      "text/html": [
       "<div>\n",
       "<style scoped>\n",
       "    .dataframe tbody tr th:only-of-type {\n",
       "        vertical-align: middle;\n",
       "    }\n",
       "\n",
       "    .dataframe tbody tr th {\n",
       "        vertical-align: top;\n",
       "    }\n",
       "\n",
       "    .dataframe thead th {\n",
       "        text-align: right;\n",
       "    }\n",
       "</style>\n",
       "<table border=\"1\" class=\"dataframe\">\n",
       "  <thead>\n",
       "    <tr style=\"text-align: right;\">\n",
       "      <th></th>\n",
       "      <th>Borough</th>\n",
       "      <th>Neighborhood</th>\n",
       "      <th>ID</th>\n",
       "      <th>Name</th>\n",
       "      <th>Likes</th>\n",
       "      <th>Rating</th>\n",
       "      <th>Tips</th>\n",
       "    </tr>\n",
       "  </thead>\n",
       "  <tbody>\n",
       "    <tr>\n",
       "      <th>0</th>\n",
       "      <td>Bronx</td>\n",
       "      <td>University Heights</td>\n",
       "      <td>4c2f8b1b7cc0c9b6a1eaeb9a</td>\n",
       "      <td>Accra Resturant</td>\n",
       "      <td>9</td>\n",
       "      <td>6.8</td>\n",
       "      <td>3</td>\n",
       "    </tr>\n",
       "    <tr>\n",
       "      <th>1</th>\n",
       "      <td>Bronx</td>\n",
       "      <td>University Heights</td>\n",
       "      <td>4cb2beaadedbef3bca7c9d40</td>\n",
       "      <td>Papaye Restaurant</td>\n",
       "      <td>11</td>\n",
       "      <td>7.8</td>\n",
       "      <td>3</td>\n",
       "    </tr>\n",
       "    <tr>\n",
       "      <th>2</th>\n",
       "      <td>Bronx</td>\n",
       "      <td>Fordham</td>\n",
       "      <td>4cb2beaadedbef3bca7c9d40</td>\n",
       "      <td>Papaye Restaurant</td>\n",
       "      <td>11</td>\n",
       "      <td>7.8</td>\n",
       "      <td>3</td>\n",
       "    </tr>\n",
       "    <tr>\n",
       "      <th>3</th>\n",
       "      <td>Bronx</td>\n",
       "      <td>Belmont</td>\n",
       "      <td>4cb2beaadedbef3bca7c9d40</td>\n",
       "      <td>Papaye Restaurant</td>\n",
       "      <td>11</td>\n",
       "      <td>7.8</td>\n",
       "      <td>3</td>\n",
       "    </tr>\n",
       "    <tr>\n",
       "      <th>4</th>\n",
       "      <td>Brooklyn</td>\n",
       "      <td>Crown Heights</td>\n",
       "      <td>51d4d2cc454a777ed5a76c57</td>\n",
       "      <td>Cafe Rue Dix</td>\n",
       "      <td>198</td>\n",
       "      <td>8.6</td>\n",
       "      <td>57</td>\n",
       "    </tr>\n",
       "  </tbody>\n",
       "</table>\n",
       "</div>"
      ],
      "text/plain": [
       "    Borough        Neighborhood                        ID               Name  \\\n",
       "0     Bronx  University Heights  4c2f8b1b7cc0c9b6a1eaeb9a    Accra Resturant   \n",
       "1     Bronx  University Heights  4cb2beaadedbef3bca7c9d40  Papaye Restaurant   \n",
       "2     Bronx             Fordham  4cb2beaadedbef3bca7c9d40  Papaye Restaurant   \n",
       "3     Bronx             Belmont  4cb2beaadedbef3bca7c9d40  Papaye Restaurant   \n",
       "4  Brooklyn       Crown Heights  51d4d2cc454a777ed5a76c57       Cafe Rue Dix   \n",
       "\n",
       "  Likes  Rating Tips  \n",
       "0     9     6.8    3  \n",
       "1    11     7.8    3  \n",
       "2    11     7.8    3  \n",
       "3    11     7.8    3  \n",
       "4   198     8.6   57  "
      ]
     },
     "execution_count": 102,
     "metadata": {
      "tags": []
     },
     "output_type": "execute_result"
    }
   ],
   "source": [
    "african_rest_stats_ny.head()"
   ]
  },
  {
   "cell_type": "code",
   "execution_count": null,
   "metadata": {
    "colab": {},
    "colab_type": "code",
    "id": "dqlaiFuz8W1S",
    "outputId": "52650dd7-d756-416d-f6f8-63ecc60c20b1"
   },
   "outputs": [
    {
     "data": {
      "text/plain": [
       "(12, 7)"
      ]
     },
     "execution_count": 103,
     "metadata": {
      "tags": []
     },
     "output_type": "execute_result"
    }
   ],
   "source": [
    "african_rest_stats_ny.shape"
   ]
  },
  {
   "cell_type": "code",
   "execution_count": null,
   "metadata": {
    "colab": {},
    "colab_type": "code",
    "id": "vJ6USPZO8W1k",
    "outputId": "275358b0-a9b0-4e49-9e10-8cba06f4af90"
   },
   "outputs": [
    {
     "data": {
      "text/plain": [
       "(12, 4)"
      ]
     },
     "execution_count": 104,
     "metadata": {
      "tags": []
     },
     "output_type": "execute_result"
    }
   ],
   "source": [
    "african_rest_ny.shape"
   ]
  },
  {
   "cell_type": "markdown",
   "metadata": {
    "colab_type": "text",
    "id": "A9AIDxD58W12"
   },
   "source": [
    "Now lets save our restaurant data to a csv sheet. This is to safeguard against modifying our hard work :) As per Foursquare API calls, we only have 500 premium calls per day to retrieve venue details. So, going forward, we will refer to the saved data sheet csv if required."
   ]
  },
  {
   "cell_type": "code",
   "execution_count": null,
   "metadata": {
    "colab": {},
    "colab_type": "code",
    "id": "KYkTRsJ68W16"
   },
   "outputs": [],
   "source": [
    "african_rest_stats_ny.to_csv('african_rest_stats_ny.csv', index=False)"
   ]
  },
  {
   "cell_type": "markdown",
   "metadata": {
    "colab_type": "text",
    "id": "oMnwVunR8W2H"
   },
   "source": [
    "To be sure nothing is broken, lets verify the data from our saved csv file."
   ]
  },
  {
   "cell_type": "code",
   "execution_count": null,
   "metadata": {
    "colab": {},
    "colab_type": "code",
    "id": "98SOdcLD8W2L"
   },
   "outputs": [],
   "source": [
    "african_rest_stats_ny_csv=pd.read_csv('african_rest_stats_ny.csv')"
   ]
  },
  {
   "cell_type": "code",
   "execution_count": null,
   "metadata": {
    "colab": {},
    "colab_type": "code",
    "id": "0G7SlZlo8W2c",
    "outputId": "62caf458-3322-41b8-db7f-fda5fc3257b9"
   },
   "outputs": [
    {
     "data": {
      "text/plain": [
       "(12, 7)"
      ]
     },
     "execution_count": 107,
     "metadata": {
      "tags": []
     },
     "output_type": "execute_result"
    }
   ],
   "source": [
    "african_rest_stats_ny_csv.shape"
   ]
  },
  {
   "cell_type": "code",
   "execution_count": null,
   "metadata": {
    "colab": {},
    "colab_type": "code",
    "id": "Zp96cnSu8W20",
    "outputId": "6e4b48d2-ad8a-4183-e89c-35333078a4e4"
   },
   "outputs": [
    {
     "data": {
      "text/html": [
       "<div>\n",
       "<style scoped>\n",
       "    .dataframe tbody tr th:only-of-type {\n",
       "        vertical-align: middle;\n",
       "    }\n",
       "\n",
       "    .dataframe tbody tr th {\n",
       "        vertical-align: top;\n",
       "    }\n",
       "\n",
       "    .dataframe thead th {\n",
       "        text-align: right;\n",
       "    }\n",
       "</style>\n",
       "<table border=\"1\" class=\"dataframe\">\n",
       "  <thead>\n",
       "    <tr style=\"text-align: right;\">\n",
       "      <th></th>\n",
       "      <th>Borough</th>\n",
       "      <th>Neighborhood</th>\n",
       "      <th>ID</th>\n",
       "      <th>Name</th>\n",
       "      <th>Likes</th>\n",
       "      <th>Rating</th>\n",
       "      <th>Tips</th>\n",
       "    </tr>\n",
       "  </thead>\n",
       "  <tbody>\n",
       "    <tr>\n",
       "      <th>0</th>\n",
       "      <td>Bronx</td>\n",
       "      <td>University Heights</td>\n",
       "      <td>4c2f8b1b7cc0c9b6a1eaeb9a</td>\n",
       "      <td>Accra Resturant</td>\n",
       "      <td>9</td>\n",
       "      <td>6.8</td>\n",
       "      <td>3</td>\n",
       "    </tr>\n",
       "    <tr>\n",
       "      <th>1</th>\n",
       "      <td>Bronx</td>\n",
       "      <td>University Heights</td>\n",
       "      <td>4cb2beaadedbef3bca7c9d40</td>\n",
       "      <td>Papaye Restaurant</td>\n",
       "      <td>11</td>\n",
       "      <td>7.8</td>\n",
       "      <td>3</td>\n",
       "    </tr>\n",
       "    <tr>\n",
       "      <th>2</th>\n",
       "      <td>Bronx</td>\n",
       "      <td>Fordham</td>\n",
       "      <td>4cb2beaadedbef3bca7c9d40</td>\n",
       "      <td>Papaye Restaurant</td>\n",
       "      <td>11</td>\n",
       "      <td>7.8</td>\n",
       "      <td>3</td>\n",
       "    </tr>\n",
       "    <tr>\n",
       "      <th>3</th>\n",
       "      <td>Bronx</td>\n",
       "      <td>Belmont</td>\n",
       "      <td>4cb2beaadedbef3bca7c9d40</td>\n",
       "      <td>Papaye Restaurant</td>\n",
       "      <td>11</td>\n",
       "      <td>7.8</td>\n",
       "      <td>3</td>\n",
       "    </tr>\n",
       "    <tr>\n",
       "      <th>4</th>\n",
       "      <td>Brooklyn</td>\n",
       "      <td>Crown Heights</td>\n",
       "      <td>51d4d2cc454a777ed5a76c57</td>\n",
       "      <td>Cafe Rue Dix</td>\n",
       "      <td>198</td>\n",
       "      <td>8.6</td>\n",
       "      <td>57</td>\n",
       "    </tr>\n",
       "  </tbody>\n",
       "</table>\n",
       "</div>"
      ],
      "text/plain": [
       "    Borough        Neighborhood                        ID               Name  \\\n",
       "0     Bronx  University Heights  4c2f8b1b7cc0c9b6a1eaeb9a    Accra Resturant   \n",
       "1     Bronx  University Heights  4cb2beaadedbef3bca7c9d40  Papaye Restaurant   \n",
       "2     Bronx             Fordham  4cb2beaadedbef3bca7c9d40  Papaye Restaurant   \n",
       "3     Bronx             Belmont  4cb2beaadedbef3bca7c9d40  Papaye Restaurant   \n",
       "4  Brooklyn       Crown Heights  51d4d2cc454a777ed5a76c57       Cafe Rue Dix   \n",
       "\n",
       "   Likes  Rating  Tips  \n",
       "0      9     6.8     3  \n",
       "1     11     7.8     3  \n",
       "2     11     7.8     3  \n",
       "3     11     7.8     3  \n",
       "4    198     8.6    57  "
      ]
     },
     "execution_count": 108,
     "metadata": {
      "tags": []
     },
     "output_type": "execute_result"
    }
   ],
   "source": [
    "african_rest_stats_ny_csv.head()"
   ]
  },
  {
   "cell_type": "markdown",
   "metadata": {
    "colab_type": "text",
    "id": "_X91TkWK8W3H"
   },
   "source": [
    "Evidently, we are good to go!"
   ]
  },
  {
   "cell_type": "code",
   "execution_count": null,
   "metadata": {
    "colab": {},
    "colab_type": "code",
    "id": "cB8jCwMC8W3M",
    "outputId": "5ce4446a-0fce-402b-ed51-c650eaa941e7"
   },
   "outputs": [
    {
     "name": "stdout",
     "output_type": "stream",
     "text": [
      "<class 'pandas.core.frame.DataFrame'>\n",
      "RangeIndex: 12 entries, 0 to 11\n",
      "Data columns (total 7 columns):\n",
      "Borough         12 non-null object\n",
      "Neighborhood    12 non-null object\n",
      "ID              12 non-null object\n",
      "Name            12 non-null object\n",
      "Likes           12 non-null object\n",
      "Rating          12 non-null float64\n",
      "Tips            12 non-null object\n",
      "dtypes: float64(1), object(6)\n",
      "memory usage: 752.0+ bytes\n"
     ]
    }
   ],
   "source": [
    "african_rest_stats_ny.info()"
   ]
  },
  {
   "cell_type": "code",
   "execution_count": null,
   "metadata": {
    "colab": {},
    "colab_type": "code",
    "id": "FfZl8eXY8W3d"
   },
   "outputs": [],
   "source": [
    "african_rest_stats_ny['Likes']=african_rest_stats_ny['Likes'].astype('float64')"
   ]
  },
  {
   "cell_type": "code",
   "execution_count": null,
   "metadata": {
    "colab": {},
    "colab_type": "code",
    "id": "p5ROMNd_8W3p"
   },
   "outputs": [],
   "source": [
    "african_rest_stats_ny['Tips']=african_rest_stats_ny['Tips'].astype('float64')"
   ]
  },
  {
   "cell_type": "code",
   "execution_count": null,
   "metadata": {
    "colab": {},
    "colab_type": "code",
    "id": "St4188dZ8W37",
    "outputId": "d9d15e36-096c-4db7-a86c-88da9b92d915"
   },
   "outputs": [
    {
     "name": "stdout",
     "output_type": "stream",
     "text": [
      "<class 'pandas.core.frame.DataFrame'>\n",
      "RangeIndex: 12 entries, 0 to 11\n",
      "Data columns (total 7 columns):\n",
      "Borough         12 non-null object\n",
      "Neighborhood    12 non-null object\n",
      "ID              12 non-null object\n",
      "Name            12 non-null object\n",
      "Likes           12 non-null float64\n",
      "Rating          12 non-null float64\n",
      "Tips            12 non-null float64\n",
      "dtypes: float64(3), object(4)\n",
      "memory usage: 752.0+ bytes\n"
     ]
    }
   ],
   "source": [
    "african_rest_stats_ny.info()"
   ]
  },
  {
   "cell_type": "markdown",
   "metadata": {
    "colab_type": "text",
    "id": "-CwCkZgn8W4P"
   },
   "source": [
    "Now the data types looks good."
   ]
  },
  {
   "cell_type": "code",
   "execution_count": null,
   "metadata": {
    "colab": {},
    "colab_type": "code",
    "id": "gYzdDm7k8W4T",
    "outputId": "71a0f265-4117-4199-eecd-fce4606b5029"
   },
   "outputs": [
    {
     "data": {
      "text/plain": [
       "Borough                         Brooklyn\n",
       "Neighborhood               Crown Heights\n",
       "ID              51d4d2cc454a777ed5a76c57\n",
       "Name                        Cafe Rue Dix\n",
       "Likes                                198\n",
       "Rating                               8.6\n",
       "Tips                                  57\n",
       "Name: 4, dtype: object"
      ]
     },
     "execution_count": 113,
     "metadata": {
      "tags": []
     },
     "output_type": "execute_result"
    }
   ],
   "source": [
    "# Resturant with maximum Likes\n",
    "african_rest_stats_ny.iloc[african_rest_stats_ny['Likes'].idxmax()]"
   ]
  },
  {
   "cell_type": "code",
   "execution_count": null,
   "metadata": {
    "colab": {},
    "colab_type": "code",
    "id": "R_oqxvXd8W4k",
    "outputId": "3ee8c495-9653-4d75-87ab-66e98d93c2d8"
   },
   "outputs": [
    {
     "data": {
      "text/plain": [
       "Borough                         Brooklyn\n",
       "Neighborhood               Crown Heights\n",
       "ID              51d4d2cc454a777ed5a76c57\n",
       "Name                        Cafe Rue Dix\n",
       "Likes                                198\n",
       "Rating                               8.6\n",
       "Tips                                  57\n",
       "Name: 4, dtype: object"
      ]
     },
     "execution_count": 114,
     "metadata": {
      "tags": []
     },
     "output_type": "execute_result"
    }
   ],
   "source": [
    "# Resturant with maximum Rating\n",
    "african_rest_stats_ny.iloc[african_rest_stats_ny['Rating'].idxmax()]"
   ]
  },
  {
   "cell_type": "code",
   "execution_count": null,
   "metadata": {
    "colab": {},
    "colab_type": "code",
    "id": "34Fb8vMO8W41",
    "outputId": "81daa011-a258-4748-b87c-3e9b0890540c"
   },
   "outputs": [
    {
     "data": {
      "text/plain": [
       "Borough                         Brooklyn\n",
       "Neighborhood               Crown Heights\n",
       "ID              51d4d2cc454a777ed5a76c57\n",
       "Name                        Cafe Rue Dix\n",
       "Likes                                198\n",
       "Rating                               8.6\n",
       "Tips                                  57\n",
       "Name: 4, dtype: object"
      ]
     },
     "execution_count": 115,
     "metadata": {
      "tags": []
     },
     "output_type": "execute_result"
    }
   ],
   "source": [
    "# Resturant with maximum Tips\n",
    "african_rest_stats_ny.iloc[african_rest_stats_ny['Tips'].idxmax()]"
   ]
  },
  {
   "cell_type": "code",
   "execution_count": null,
   "metadata": {
    "colab": {},
    "colab_type": "code",
    "id": "rZ1XUpto8W5F"
   },
   "outputs": [],
   "source": [
    "ny_neighborhood_stats=african_rest_stats_ny.groupby('Neighborhood',as_index=False).mean()[['Neighborhood','Rating']]\n",
    "ny_neighborhood_stats.columns=['Neighborhood','Average Rating']"
   ]
  },
  {
   "cell_type": "code",
   "execution_count": null,
   "metadata": {
    "colab": {},
    "colab_type": "code",
    "id": "oQiSVt5U8W5U",
    "outputId": "622ad238-f673-484a-eeb9-7a93d29cdf1f"
   },
   "outputs": [
    {
     "data": {
      "text/html": [
       "<div>\n",
       "<style scoped>\n",
       "    .dataframe tbody tr th:only-of-type {\n",
       "        vertical-align: middle;\n",
       "    }\n",
       "\n",
       "    .dataframe tbody tr th {\n",
       "        vertical-align: top;\n",
       "    }\n",
       "\n",
       "    .dataframe thead th {\n",
       "        text-align: right;\n",
       "    }\n",
       "</style>\n",
       "<table border=\"1\" class=\"dataframe\">\n",
       "  <thead>\n",
       "    <tr style=\"text-align: right;\">\n",
       "      <th></th>\n",
       "      <th>Neighborhood</th>\n",
       "      <th>Average Rating</th>\n",
       "    </tr>\n",
       "  </thead>\n",
       "  <tbody>\n",
       "    <tr>\n",
       "      <th>2</th>\n",
       "      <td>Crown Heights</td>\n",
       "      <td>8.6</td>\n",
       "    </tr>\n",
       "    <tr>\n",
       "      <th>4</th>\n",
       "      <td>Hamilton Heights</td>\n",
       "      <td>8.6</td>\n",
       "    </tr>\n",
       "    <tr>\n",
       "      <th>0</th>\n",
       "      <td>Belmont</td>\n",
       "      <td>7.8</td>\n",
       "    </tr>\n",
       "    <tr>\n",
       "      <th>3</th>\n",
       "      <td>Fordham</td>\n",
       "      <td>7.8</td>\n",
       "    </tr>\n",
       "    <tr>\n",
       "      <th>1</th>\n",
       "      <td>Central Harlem</td>\n",
       "      <td>7.7</td>\n",
       "    </tr>\n",
       "  </tbody>\n",
       "</table>\n",
       "</div>"
      ],
      "text/plain": [
       "       Neighborhood  Average Rating\n",
       "2     Crown Heights             8.6\n",
       "4  Hamilton Heights             8.6\n",
       "0           Belmont             7.8\n",
       "3           Fordham             7.8\n",
       "1    Central Harlem             7.7"
      ]
     },
     "execution_count": 117,
     "metadata": {
      "tags": []
     },
     "output_type": "execute_result"
    }
   ],
   "source": [
    "ny_neighborhood_stats.sort_values(['Average Rating'],ascending=False).head()"
   ]
  },
  {
   "cell_type": "markdown",
   "metadata": {
    "colab_type": "text",
    "id": "EIWml0x_8W5v"
   },
   "source": [
    "The above ratings are for the top neighbourhoods with the top average rating of African resturants"
   ]
  },
  {
   "cell_type": "code",
   "execution_count": null,
   "metadata": {
    "colab": {},
    "colab_type": "code",
    "id": "bW4XHAnD8W5-"
   },
   "outputs": [],
   "source": [
    "ny_borough_stats=african_rest_stats_ny.groupby('Borough',as_index=False).mean()[['Borough','Rating']]\n",
    "ny_borough_stats.columns=['Borough','Average Rating']"
   ]
  },
  {
   "cell_type": "code",
   "execution_count": null,
   "metadata": {
    "colab": {},
    "colab_type": "code",
    "id": "4lA1rIou8W6K",
    "outputId": "997d8298-7fa0-4cf0-b9cf-91628bfea8f9"
   },
   "outputs": [
    {
     "data": {
      "text/html": [
       "<div>\n",
       "<style scoped>\n",
       "    .dataframe tbody tr th:only-of-type {\n",
       "        vertical-align: middle;\n",
       "    }\n",
       "\n",
       "    .dataframe tbody tr th {\n",
       "        vertical-align: top;\n",
       "    }\n",
       "\n",
       "    .dataframe thead th {\n",
       "        text-align: right;\n",
       "    }\n",
       "</style>\n",
       "<table border=\"1\" class=\"dataframe\">\n",
       "  <thead>\n",
       "    <tr style=\"text-align: right;\">\n",
       "      <th></th>\n",
       "      <th>Borough</th>\n",
       "      <th>Average Rating</th>\n",
       "    </tr>\n",
       "  </thead>\n",
       "  <tbody>\n",
       "    <tr>\n",
       "      <th>2</th>\n",
       "      <td>Manhattan</td>\n",
       "      <td>7.88</td>\n",
       "    </tr>\n",
       "    <tr>\n",
       "      <th>1</th>\n",
       "      <td>Brooklyn</td>\n",
       "      <td>7.45</td>\n",
       "    </tr>\n",
       "    <tr>\n",
       "      <th>0</th>\n",
       "      <td>Bronx</td>\n",
       "      <td>7.40</td>\n",
       "    </tr>\n",
       "  </tbody>\n",
       "</table>\n",
       "</div>"
      ],
      "text/plain": [
       "     Borough  Average Rating\n",
       "2  Manhattan            7.88\n",
       "1   Brooklyn            7.45\n",
       "0      Bronx            7.40"
      ]
     },
     "execution_count": 119,
     "metadata": {
      "tags": []
     },
     "output_type": "execute_result"
    }
   ],
   "source": [
    "ny_borough_stats.sort_values(['Average Rating'],ascending=False).head()"
   ]
  },
  {
   "cell_type": "markdown",
   "metadata": {
    "colab_type": "text",
    "id": "zXC6jdoU8W6h"
   },
   "source": [
    "Similarly these are the average ratings of African Resturants for each Borough."
   ]
  },
  {
   "cell_type": "markdown",
   "metadata": {
    "colab_type": "text",
    "id": "SCVTyMCT8W6m"
   },
   "source": [
    "Lets put some visuals to this data"
   ]
  },
  {
   "cell_type": "code",
   "execution_count": null,
   "metadata": {
    "colab": {},
    "colab_type": "code",
    "id": "m-CJ_kir8W6x",
    "outputId": "6972fc2b-a4a4-4e50-e476-cdd3396f2c21"
   },
   "outputs": [
    {
     "data": {
      "image/png": "[encoded data removed]",
      "text/plain": [
       "<Figure size 900x500 with 1 Axes>"
      ]
     },
     "metadata": {
      "needs_background": "light",
      "tags": []
     },
     "output_type": "display_data"
    }
   ],
   "source": [
    "plt.figure(figsize=(9,5), dpi = 100)\n",
    "# title\n",
    "plt.title('Average rating of African Resturants for each Borough')\n",
    "#On x-axis\n",
    "plt.xlabel('Borough', fontsize = 15)\n",
    "#On y-axis\n",
    "plt.ylabel('Average Rating', fontsize=15)\n",
    "#giving a bar plot\n",
    "african_rest_stats_ny.groupby('Borough').mean()['Rating'].plot(kind='bar')\n",
    "#legend\n",
    "plt.legend()\n",
    "#displays the plot\n",
    "plt.show()"
   ]
  },
  {
   "cell_type": "markdown",
   "metadata": {
    "colab_type": "text",
    "id": "JSpcWGwO8W7N"
   },
   "source": [
    "We will consider all the neighborhoods with average rating greater or equal 7.5 to visualize on map"
   ]
  },
  {
   "cell_type": "code",
   "execution_count": null,
   "metadata": {
    "colab": {},
    "colab_type": "code",
    "id": "QZ0Njawe8W7W",
    "outputId": "762ce6b1-177f-4d86-b7c5-fb57b24fb3ac"
   },
   "outputs": [
    {
     "data": {
      "text/html": [
       "<div>\n",
       "<style scoped>\n",
       "    .dataframe tbody tr th:only-of-type {\n",
       "        vertical-align: middle;\n",
       "    }\n",
       "\n",
       "    .dataframe tbody tr th {\n",
       "        vertical-align: top;\n",
       "    }\n",
       "\n",
       "    .dataframe thead th {\n",
       "        text-align: right;\n",
       "    }\n",
       "</style>\n",
       "<table border=\"1\" class=\"dataframe\">\n",
       "  <thead>\n",
       "    <tr style=\"text-align: right;\">\n",
       "      <th></th>\n",
       "      <th>Neighborhood</th>\n",
       "      <th>Average Rating</th>\n",
       "    </tr>\n",
       "  </thead>\n",
       "  <tbody>\n",
       "    <tr>\n",
       "      <th>0</th>\n",
       "      <td>Belmont</td>\n",
       "      <td>7.8</td>\n",
       "    </tr>\n",
       "    <tr>\n",
       "      <th>1</th>\n",
       "      <td>Central Harlem</td>\n",
       "      <td>7.7</td>\n",
       "    </tr>\n",
       "    <tr>\n",
       "      <th>2</th>\n",
       "      <td>Crown Heights</td>\n",
       "      <td>8.6</td>\n",
       "    </tr>\n",
       "    <tr>\n",
       "      <th>3</th>\n",
       "      <td>Fordham</td>\n",
       "      <td>7.8</td>\n",
       "    </tr>\n",
       "    <tr>\n",
       "      <th>4</th>\n",
       "      <td>Hamilton Heights</td>\n",
       "      <td>8.6</td>\n",
       "    </tr>\n",
       "  </tbody>\n",
       "</table>\n",
       "</div>"
      ],
      "text/plain": [
       "       Neighborhood  Average Rating\n",
       "0           Belmont             7.8\n",
       "1    Central Harlem             7.7\n",
       "2     Crown Heights             8.6\n",
       "3           Fordham             7.8\n",
       "4  Hamilton Heights             8.6"
      ]
     },
     "execution_count": 121,
     "metadata": {
      "tags": []
     },
     "output_type": "execute_result"
    }
   ],
   "source": [
    "ny_neighborhood_stats=ny_neighborhood_stats[ny_neighborhood_stats['Average Rating']>=7.5]\n",
    "ny_neighborhood_stats"
   ]
  },
  {
   "cell_type": "markdown",
   "metadata": {
    "colab_type": "text",
    "id": "7SLtHtdl8W7l"
   },
   "source": [
    "We will join this dataset to original new york data to get lonitude and latitude"
   ]
  },
  {
   "cell_type": "code",
   "execution_count": null,
   "metadata": {
    "colab": {},
    "colab_type": "code",
    "id": "J2wv-G9h8W7o",
    "outputId": "1d41c4b0-c716-454e-934c-48a66cfd3c62"
   },
   "outputs": [
    {
     "data": {
      "text/html": [
       "<div>\n",
       "<style scoped>\n",
       "    .dataframe tbody tr th:only-of-type {\n",
       "        vertical-align: middle;\n",
       "    }\n",
       "\n",
       "    .dataframe tbody tr th {\n",
       "        vertical-align: top;\n",
       "    }\n",
       "\n",
       "    .dataframe thead th {\n",
       "        text-align: right;\n",
       "    }\n",
       "</style>\n",
       "<table border=\"1\" class=\"dataframe\">\n",
       "  <thead>\n",
       "    <tr style=\"text-align: right;\">\n",
       "      <th></th>\n",
       "      <th>Borough</th>\n",
       "      <th>Neighborhood</th>\n",
       "      <th>Latitude</th>\n",
       "      <th>Longitude</th>\n",
       "      <th>Average Rating</th>\n",
       "    </tr>\n",
       "  </thead>\n",
       "  <tbody>\n",
       "    <tr>\n",
       "      <th>0</th>\n",
       "      <td>Bronx</td>\n",
       "      <td>Belmont</td>\n",
       "      <td>40.857277</td>\n",
       "      <td>-73.888452</td>\n",
       "      <td>7.8</td>\n",
       "    </tr>\n",
       "    <tr>\n",
       "      <th>1</th>\n",
       "      <td>Manhattan</td>\n",
       "      <td>Central Harlem</td>\n",
       "      <td>40.815976</td>\n",
       "      <td>-73.943211</td>\n",
       "      <td>7.7</td>\n",
       "    </tr>\n",
       "    <tr>\n",
       "      <th>2</th>\n",
       "      <td>Brooklyn</td>\n",
       "      <td>Crown Heights</td>\n",
       "      <td>40.670829</td>\n",
       "      <td>-73.943291</td>\n",
       "      <td>8.6</td>\n",
       "    </tr>\n",
       "    <tr>\n",
       "      <th>3</th>\n",
       "      <td>Bronx</td>\n",
       "      <td>Fordham</td>\n",
       "      <td>40.860997</td>\n",
       "      <td>-73.896427</td>\n",
       "      <td>7.8</td>\n",
       "    </tr>\n",
       "    <tr>\n",
       "      <th>4</th>\n",
       "      <td>Manhattan</td>\n",
       "      <td>Hamilton Heights</td>\n",
       "      <td>40.823604</td>\n",
       "      <td>-73.949688</td>\n",
       "      <td>8.6</td>\n",
       "    </tr>\n",
       "  </tbody>\n",
       "</table>\n",
       "</div>"
      ],
      "text/plain": [
       "     Borough      Neighborhood   Latitude  Longitude  Average Rating\n",
       "0      Bronx           Belmont  40.857277 -73.888452             7.8\n",
       "1  Manhattan    Central Harlem  40.815976 -73.943211             7.7\n",
       "2   Brooklyn     Crown Heights  40.670829 -73.943291             8.6\n",
       "3      Bronx           Fordham  40.860997 -73.896427             7.8\n",
       "4  Manhattan  Hamilton Heights  40.823604 -73.949688             8.6"
      ]
     },
     "execution_count": 122,
     "metadata": {
      "tags": []
     },
     "output_type": "execute_result"
    }
   ],
   "source": [
    "ny_neighborhood_stats=pd.merge(ny_neighborhood_stats,new_york_data, on='Neighborhood')\n",
    "ny_neighborhood_stats=ny_neighborhood_stats[['Borough','Neighborhood','Latitude','Longitude','Average Rating']]\n",
    "ny_neighborhood_stats"
   ]
  },
  {
   "cell_type": "markdown",
   "metadata": {
    "colab_type": "text",
    "id": "mLGuIRYm8W74"
   },
   "source": [
    "Now we will show this data on a map"
   ]
  },
  {
   "cell_type": "code",
   "execution_count": null,
   "metadata": {
    "colab": {},
    "colab_type": "code",
    "id": "GuzZeozt8W78"
   },
   "outputs": [],
   "source": [
    "# create map and display it\n",
    "ny_map = folium.Map(location=geo_location('New York'), zoom_start=12)\n",
    "\n",
    "# instantiate a feature group for the incidents in the dataframe\n",
    "incidents = folium.map.FeatureGroup()\n",
    "\n",
    "# loop through the 100 crimes and add each to the incidents feature group\n",
    "for lat, lng, in ny_neighborhood_stats[['Latitude','Longitude']].values:\n",
    "    incidents.add_child(\n",
    "        folium.CircleMarker(\n",
    "            [lat, lng],\n",
    "            radius=10, # define how big you want the circle markers to be\n",
    "            color='yellow',\n",
    "            fill=True,\n",
    "            fill_color='blue',\n",
    "            fill_opacity=0.6\n",
    "        )\n",
    "    )"
   ]
  },
  {
   "cell_type": "markdown",
   "metadata": {
    "colab_type": "text",
    "id": "0Kdip4Z28W8S"
   },
   "source": [
    "Lets add a new field to dataframe for labeling purpose"
   ]
  },
  {
   "cell_type": "code",
   "execution_count": null,
   "metadata": {
    "colab": {},
    "colab_type": "code",
    "id": "H77kxAxE8W8V",
    "outputId": "ca6112de-21e7-4eb0-82fa-e22f4ed4a777"
   },
   "outputs": [
    {
     "data": {
      "text/html": [
       "<div style=\"width:100%;\"><div style=\"position:relative;width:100%;height:0;padding-bottom:60%;\"><iframe src=\"data:text/html;charset=utf-8;base64,PCFET0NUWVBFIGh0bWw+CjxoZWFkPiAgICAKICAgIDxtZXRhIGh0dHAtZXF1aXY9ImNvbnRlbnQtdHlwZSIgY29udGVudD0idGV4dC9odG1sOyBjaGFyc2V0PVVURi04IiAvPgogICAgCiAgICAgICAgPHNjcmlwdD4KICAgICAgICAgICAgTF9OT19UT1VDSCA9IGZhbHNlOwogICAgICAgICAgICBMX0RJU0FCTEVfM0QgPSBmYWxzZTsKICAgICAgICA8L3NjcmlwdD4KICAgIAogICAgPHNjcmlwdCBzcmM9Imh0dHBzOi8vY2RuLmpzZGVsaXZyLm5ldC9ucG0vbGVhZmxldEAxLjQuMC9kaXN0L2xlYWZsZXQuanMiPjwvc2NyaXB0PgogICAgPHNjcmlwdCBzcmM9Imh0dHBzOi8vY29kZS5qcXVlcnkuY29tL2pxdWVyeS0xLjEyLjQubWluLmpzIj48L3NjcmlwdD4KICAgIDxzY3JpcHQgc3JjPSJodHRwczovL21heGNkbi5ib290c3RyYXBjZG4uY29tL2Jvb3RzdHJhcC8zLjIuMC9qcy9ib290c3RyYXAubWluLmpzIj48L3NjcmlwdD4KICAgIDxzY3JpcHQgc3JjPSJodHRwczovL2NkbmpzLmNsb3VkZmxhcmUuY29tL2FqYXgvbGlicy9MZWFmbGV0LmF3ZXNvbWUtbWFya2Vycy8yLjAuMi9sZWFmbGV0LmF3ZXNvbWUtbWFya2Vycy5qcyI+PC9zY3JpcHQ+CiAgICA8bGluayByZWw9InN0eWxlc2hlZXQiIGhyZWY9Imh0dHBzOi8vY2RuLmpzZGVsaXZyLm5ldC9ucG0vbGVhZmxldEAxLjQuMC9kaXN0L2xlYWZsZXQuY3NzIi8+CiAgICA8bGluayByZWw9InN0eWxlc2hlZXQiIGhyZWY9Imh0dHBzOi8vbWF4Y2RuLmJvb3RzdHJhcGNkbi5jb20vYm9vdHN0cmFwLzMuMi4wL2Nzcy9ib290c3RyYXAubWluLmNzcyIvPgogICAgPGxpbmsgcmVsPSJzdHlsZXNoZWV0IiBocmVmPSJodHRwczovL21heGNkbi5ib290c3RyYXBjZG4uY29tL2Jvb3RzdHJhcC8zLjIuMC9jc3MvYm9vdHN0cmFwLXRoZW1lLm1pbi5jc3MiLz4KICAgIDxsaW5rIHJlbD0ic3R5bGVzaGVldCIgaHJlZj0iaHR0cHM6Ly9tYXhjZG4uYm9vdHN0cmFwY2RuLmNvbS9mb250LWF3ZXNvbWUvNC42LjMvY3NzL2ZvbnQtYXdlc29tZS5taW4uY3NzIi8+CiAgICA8bGluayByZWw9InN0eWxlc2hlZXQiIGhyZWY9Imh0dHBzOi8vY2RuanMuY2xvdWRmbGFyZS5jb20vYWpheC9saWJzL0xlYWZsZXQuYXdlc29tZS1tYXJrZXJzLzIuMC4yL2xlYWZsZXQuYXdlc29tZS1tYXJrZXJzLmNzcyIvPgogICAgPGxpbmsgcmVsPSJzdHlsZXNoZWV0IiBocmVmPSJodHRwczovL3Jhd2Nkbi5naXRoYWNrLmNvbS9weXRob24tdmlzdWFsaXphdGlvbi9mb2xpdW0vbWFzdGVyL2ZvbGl1bS90ZW1wbGF0ZXMvbGVhZmxldC5hd2Vzb21lLnJvdGF0ZS5jc3MiLz4KICAgIDxzdHlsZT5odG1sLCBib2R5IHt3aWR0aDogMTAwJTtoZWlnaHQ6IDEwMCU7bWFyZ2luOiAwO3BhZGRpbmc6IDA7fTwvc3R5bGU+CiAgICA8c3R5bGU+I21hcCB7cG9zaXRpb246YWJzb2x1dGU7dG9wOjA7Ym90dG9tOjA7cmlnaHQ6MDtsZWZ0OjA7fTwvc3R5bGU+CiAgICAKICAgICAgICAgICAgPG1ldGEgbmFtZT0idmlld3BvcnQiIGNvbnRlbnQ9IndpZHRoPWRldmljZS13aWR0aCwKICAgICAgICAgICAgICAgIGluaXRpYWwtc2NhbGU9MS4wLCBtYXhpbXVtLXNjYWxlPTEuMCwgdXNlci1zY2FsYWJsZT1ubyIgLz4KICAgICAgICAgICAgPHN0eWxlPgogICAgICAgICAgICAgICAgI21hcF9hNTZhMzZlNzIxNTE0OTY5YjBlZTBjOTMwMWFhMGVhYSB7CiAgICAgICAgICAgICAgICAgICAgcG9zaXRpb246IHJlbGF0aXZlOwogICAgICAgICAgICAgICAgICAgIHdpZHRoOiAxMDAuMCU7CiAgICAgICAgICAgICAgICAgICAgaGVpZ2h0OiAxMDAuMCU7CiAgICAgICAgICAgICAgICAgICAgbGVmdDogMC4wJTsKICAgICAgICAgICAgICAgICAgICB0b3A6IDAuMCU7CiAgICAgICAgICAgICAgICB9CiAgICAgICAgICAgIDwvc3R5bGU+CiAgICAgICAgCjwvaGVhZD4KPGJvZHk+ICAgIAogICAgCiAgICAgICAgICAgIDxkaXYgY2xhc3M9ImZvbGl1bS1tYXAiIGlkPSJtYXBfYTU2YTM2ZTcyMTUxNDk2OWIwZWUwYzkzMDFhYTBlYWEiID48L2Rpdj4KICAgICAgICAKPC9ib2R5Pgo8c2NyaXB0PiAgICAKICAgIAogICAgICAgICAgICB2YXIgbWFwX2E1NmEzNmU3MjE1MTQ5NjliMGVlMGM5MzAxYWEwZWFhID0gTC5tYXAoCiAgICAgICAgICAgICAgICAibWFwX2E1NmEzNmU3MjE1MTQ5NjliMGVlMGM5MzAxYWEwZWFhIiwKICAgICAgICAgICAgICAgIHsKICAgICAgICAgICAgICAgICAgICBjZW50ZXI6IFs0MC43MTI3MjgxLCAtNzQuMDA2MDE1Ml0sCiAgICAgICAgICAgICAgICAgICAgY3JzOiBMLkNSUy5FUFNHMzg1NywKICAgICAgICAgICAgICAgICAgICB6b29tOiAxMiwKICAgICAgICAgICAgICAgICAgICB6b29tQ29udHJvbDogdHJ1ZSwKICAgICAgICAgICAgICAgICAgICBwcmVmZXJDYW52YXM6IGZhbHNlLAogICAgICAgICAgICAgICAgfQogICAgICAgICAgICApOwoKICAgICAgICAgICAgCgogICAgICAgIAogICAgCiAgICAgICAgICAgIHZhciB0aWxlX2xheWVyX2E2MDc4ZTRkZDVjNjRhNWQ5N2E0ZjI2OTczZWU3MzAzID0gTC50aWxlTGF5ZXIoCiAgICAgICAgICAgICAgICAiaHR0cHM6Ly97c30udGlsZS5vcGVuc3RyZWV0bWFwLm9yZy97en0ve3h9L3t5fS5wbmciLAogICAgICAgICAgICAgICAgeyJhdHRyaWJ1dGlvbiI6ICJEYXRhIGJ5IFx1MDAyNmNvcHk7IFx1MDAzY2EgaHJlZj1cImh0dHA6Ly9vcGVuc3RyZWV0bWFwLm9yZ1wiXHUwMDNlT3BlblN0cmVldE1hcFx1MDAzYy9hXHUwMDNlLCB1bmRlciBcdTAwM2NhIGhyZWY9XCJodHRwOi8vd3d3Lm9wZW5zdHJlZXRtYXAub3JnL2NvcHlyaWdodFwiXHUwMDNlT0RiTFx1MDAzYy9hXHUwMDNlLiIsICJkZXRlY3RSZXRpbmEiOiBmYWxzZSwgIm1heE5hdGl2ZVpvb20iOiAxOCwgIm1heFpvb20iOiAxOCwgIm1pblpvb20iOiAwLCAibm9XcmFwIjogZmFsc2UsICJvcGFjaXR5IjogMSwgInN1YmRvbWFpbnMiOiAiYWJjIiwgInRtcyI6IGZhbHNlfQogICAgICAgICAgICApLmFkZFRvKG1hcF9hNTZhMzZlNzIxNTE0OTY5YjBlZTBjOTMwMWFhMGVhYSk7CiAgICAgICAgCiAgICAKICAgICAgICAgICAgdmFyIG1hcmtlcl9kNTFkYjQ4YjgxYzg0ODBlODVhNjIxYTY2MTNmZTM1MiA9IEwubWFya2VyKAogICAgICAgICAgICAgICAgWzQwLjg1NzI3NzEwMDczODk1LCAtNzMuODg4NDUxOTYxMzQ4MDRdLAogICAgICAgICAgICAgICAge30KICAgICAgICAgICAgKS5hZGRUbyhtYXBfYTU2YTM2ZTcyMTUxNDk2OWIwZWUwYzkzMDFhYTBlYWEpOwogICAgICAgIAogICAgCiAgICAgICAgdmFyIHBvcHVwXzgzODI3NWI1ZWM1OTQ2MTViMWU4YzdjMjY3N2E5YzdkID0gTC5wb3B1cCh7Im1heFdpZHRoIjogIjEwMCUifSk7CgogICAgICAgIAogICAgICAgICAgICB2YXIgaHRtbF81NmFiMzgyNGU5MWQ0NDZhOWQyYWY5YTUwYzZhYzI0NSA9ICQoYDxkaXYgaWQ9Imh0bWxfNTZhYjM4MjRlOTFkNDQ2YTlkMmFmOWE1MGM2YWMyNDUiIHN0eWxlPSJ3aWR0aDogMTAwLjAlOyBoZWlnaHQ6IDEwMC4wJTsiPkJlbG1vbnQsIEJyb254KDcuOCk8L2Rpdj5gKVswXTsKICAgICAgICAgICAgcG9wdXBfODM4Mjc1YjVlYzU5NDYxNWIxZThjN2MyNjc3YTljN2Quc2V0Q29udGVudChodG1sXzU2YWIzODI0ZTkxZDQ0NmE5ZDJhZjlhNTBjNmFjMjQ1KTsKICAgICAgICAKCiAgICAgICAgbWFya2VyX2Q1MWRiNDhiODFjODQ4MGU4NWE2MjFhNjYxM2ZlMzUyLmJpbmRQb3B1cChwb3B1cF84MzgyNzViNWVjNTk0NjE1YjFlOGM3YzI2NzdhOWM3ZCkKICAgICAgICA7CgogICAgICAgIAogICAgCiAgICAKICAgICAgICAgICAgdmFyIG1hcmtlcl8wN2JmN2NmNGZmMDk0ZGI0YjMwNjUzMmFiZDgzMjZjNyA9IEwubWFya2VyKAogICAgICAgICAgICAgICAgWzQwLjgxNTk3NjA2NzQyNDE0LCAtNzMuOTQzMjExMTI2MDM5MDVdLAogICAgICAgICAgICAgICAge30KICAgICAgICAgICAgKS5hZGRUbyhtYXBfYTU2YTM2ZTcyMTUxNDk2OWIwZWUwYzkzMDFhYTBlYWEpOwogICAgICAgIAogICAgCiAgICAgICAgdmFyIHBvcHVwXzRkMzU3ZjUzY2VhMzQyMWE4ZjNiOTk0ODJhMDJmODY2ID0gTC5wb3B1cCh7Im1heFdpZHRoIjogIjEwMCUifSk7CgogICAgICAgIAogICAgICAgICAgICB2YXIgaHRtbF9iMDExNTJkMDQ3NTc0ZGRhODMyOTNmYTZkYzY0ZDlmZCA9ICQoYDxkaXYgaWQ9Imh0bWxfYjAxMTUyZDA0NzU3NGRkYTgzMjkzZmE2ZGM2NGQ5ZmQiIHN0eWxlPSJ3aWR0aDogMTAwLjAlOyBoZWlnaHQ6IDEwMC4wJTsiPkNlbnRyYWwgSGFybGVtLCBNYW5oYXR0YW4oNy43KTwvZGl2PmApWzBdOwogICAgICAgICAgICBwb3B1cF80ZDM1N2Y1M2NlYTM0MjFhOGYzYjk5NDgyYTAyZjg2Ni5zZXRDb250ZW50KGh0bWxfYjAxMTUyZDA0NzU3NGRkYTgzMjkzZmE2ZGM2NGQ5ZmQpOwogICAgICAgIAoKICAgICAgICBtYXJrZXJfMDdiZjdjZjRmZjA5NGRiNGIzMDY1MzJhYmQ4MzI2YzcuYmluZFBvcHVwKHBvcHVwXzRkMzU3ZjUzY2VhMzQyMWE4ZjNiOTk0ODJhMDJmODY2KQogICAgICAgIDsKCiAgICAgICAgCiAgICAKICAgIAogICAgICAgICAgICB2YXIgbWFya2VyX2MyYzU4NjBjM2M5ZDQyMzM5MzgwYzQyYjRmMDI1NDBhID0gTC5tYXJrZXIoCiAgICAgICAgICAgICAgICBbNDAuNjcwODI5MTc2OTUyOTQsIC03My45NDMyOTExOTA3MzU4Ml0sCiAgICAgICAgICAgICAgICB7fQogICAgICAgICAgICApLmFkZFRvKG1hcF9hNTZhMzZlNzIxNTE0OTY5YjBlZTBjOTMwMWFhMGVhYSk7CiAgICAgICAgCiAgICAKICAgICAgICB2YXIgcG9wdXBfZWU2YzkxNmEyYTA2NDA4OGI0ZmE5ZWE0OTI1ZTljNWUgPSBMLnBvcHVwKHsibWF4V2lkdGgiOiAiMTAwJSJ9KTsKCiAgICAgICAgCiAgICAgICAgICAgIHZhciBodG1sX2IyMTFhNGE3NjY3ZjRiNjFhNzA0YWZlMzA5ZWI1YTBmID0gJChgPGRpdiBpZD0iaHRtbF9iMjExYTRhNzY2N2Y0YjYxYTcwNGFmZTMwOWViNWEwZiIgc3R5bGU9IndpZHRoOiAxMDAuMCU7IGhlaWdodDogMTAwLjAlOyI+Q3Jvd24gSGVpZ2h0cywgQnJvb2tseW4oOC42KTwvZGl2PmApWzBdOwogICAgICAgICAgICBwb3B1cF9lZTZjOTE2YTJhMDY0MDg4YjRmYTllYTQ5MjVlOWM1ZS5zZXRDb250ZW50KGh0bWxfYjIxMWE0YTc2NjdmNGI2MWE3MDRhZmUzMDllYjVhMGYpOwogICAgICAgIAoKICAgICAgICBtYXJrZXJfYzJjNTg2MGMzYzlkNDIzMzkzODBjNDJiNGYwMjU0MGEuYmluZFBvcHVwKHBvcHVwX2VlNmM5MTZhMmEwNjQwODhiNGZhOWVhNDkyNWU5YzVlKQogICAgICAgIDsKCiAgICAgICAgCiAgICAKICAgIAogICAgICAgICAgICB2YXIgbWFya2VyX2Y5MzFkYTJmYWFhZTQ5NWM4NWM5MWEyYzExMWYyY2JlID0gTC5tYXJrZXIoCiAgICAgICAgICAgICAgICBbNDAuODYwOTk2Nzk2Mzg2NTQsIC03My44OTY0MjY1NTk4MTYyM10sCiAgICAgICAgICAgICAgICB7fQogICAgICAgICAgICApLmFkZFRvKG1hcF9hNTZhMzZlNzIxNTE0OTY5YjBlZTBjOTMwMWFhMGVhYSk7CiAgICAgICAgCiAgICAKICAgICAgICB2YXIgcG9wdXBfYjczNTZmY2UyNjU2NDg0ODlkMGM0ZjU2MzU1NDE4M2YgPSBMLnBvcHVwKHsibWF4V2lkdGgiOiAiMTAwJSJ9KTsKCiAgICAgICAgCiAgICAgICAgICAgIHZhciBodG1sXzNjZmZhNGM0YjBkMTQwMWVhNGUyMGVjNzAxNzQ4NTk4ID0gJChgPGRpdiBpZD0iaHRtbF8zY2ZmYTRjNGIwZDE0MDFlYTRlMjBlYzcwMTc0ODU5OCIgc3R5bGU9IndpZHRoOiAxMDAuMCU7IGhlaWdodDogMTAwLjAlOyI+Rm9yZGhhbSwgQnJvbngoNy44KTwvZGl2PmApWzBdOwogICAgICAgICAgICBwb3B1cF9iNzM1NmZjZTI2NTY0ODQ4OWQwYzRmNTYzNTU0MTgzZi5zZXRDb250ZW50KGh0bWxfM2NmZmE0YzRiMGQxNDAxZWE0ZTIwZWM3MDE3NDg1OTgpOwogICAgICAgIAoKICAgICAgICBtYXJrZXJfZjkzMWRhMmZhYWFlNDk1Yzg1YzkxYTJjMTExZjJjYmUuYmluZFBvcHVwKHBvcHVwX2I3MzU2ZmNlMjY1NjQ4NDg5ZDBjNGY1NjM1NTQxODNmKQogICAgICAgIDsKCiAgICAgICAgCiAgICAKICAgIAogICAgICAgICAgICB2YXIgbWFya2VyXzc0ZGVmNTRkZjkxNTRkZTk5MThhNTNmYmY5ODBjMjBmID0gTC5tYXJrZXIoCiAgICAgICAgICAgICAgICBbNDAuODIzNjA0Mjg0ODExOTM1LCAtNzMuOTQ5Njg3OTE4ODMzNjZdLAogICAgICAgICAgICAgICAge30KICAgICAgICAgICAgKS5hZGRUbyhtYXBfYTU2YTM2ZTcyMTUxNDk2OWIwZWUwYzkzMDFhYTBlYWEpOwogICAgICAgIAogICAgCiAgICAgICAgdmFyIHBvcHVwX2Q4ZjA3YjkxYjdjMDQ4ZmNiZTJiY2MxY2ZmMWYzYTczID0gTC5wb3B1cCh7Im1heFdpZHRoIjogIjEwMCUifSk7CgogICAgICAgIAogICAgICAgICAgICB2YXIgaHRtbF8zZmFhOTA1NTFlZGM0MGRkYTUxNzljMTRiY2ZlMzM1MiA9ICQoYDxkaXYgaWQ9Imh0bWxfM2ZhYTkwNTUxZWRjNDBkZGE1MTc5YzE0YmNmZTMzNTIiIHN0eWxlPSJ3aWR0aDogMTAwLjAlOyBoZWlnaHQ6IDEwMC4wJTsiPkhhbWlsdG9uIEhlaWdodHMsIE1hbmhhdHRhbig4LjYpPC9kaXY+YClbMF07CiAgICAgICAgICAgIHBvcHVwX2Q4ZjA3YjkxYjdjMDQ4ZmNiZTJiY2MxY2ZmMWYzYTczLnNldENvbnRlbnQoaHRtbF8zZmFhOTA1NTFlZGM0MGRkYTUxNzljMTRiY2ZlMzM1Mik7CiAgICAgICAgCgogICAgICAgIG1hcmtlcl83NGRlZjU0ZGY5MTU0ZGU5OTE4YTUzZmJmOTgwYzIwZi5iaW5kUG9wdXAocG9wdXBfZDhmMDdiOTFiN2MwNDhmY2JlMmJjYzFjZmYxZjNhNzMpCiAgICAgICAgOwoKICAgICAgICAKICAgIAogICAgCiAgICAgICAgICAgIHZhciBmZWF0dXJlX2dyb3VwX2Q2NmJkNDEzN2FiNjQ5ODI4NDk5NDdjNTgyMjI0MjFlID0gTC5mZWF0dXJlR3JvdXAoCiAgICAgICAgICAgICAgICB7fQogICAgICAgICAgICApLmFkZFRvKG1hcF9hNTZhMzZlNzIxNTE0OTY5YjBlZTBjOTMwMWFhMGVhYSk7CiAgICAgICAgCiAgICAKICAgICAgICAgICAgdmFyIGNpcmNsZV9tYXJrZXJfZjBkMmEyYzk4NmMxNGNlYjlmYmMyNDc2ODU1OGYwODQgPSBMLmNpcmNsZU1hcmtlcigKICAgICAgICAgICAgICAgIFs0MC44NTcyNzcxMDA3Mzg5NSwgLTczLjg4ODQ1MTk2MTM0ODA0XSwKICAgICAgICAgICAgICAgIHsiYnViYmxpbmdNb3VzZUV2ZW50cyI6IHRydWUsICJjb2xvciI6ICJ5ZWxsb3ciLCAiZGFzaEFycmF5IjogbnVsbCwgImRhc2hPZmZzZXQiOiBudWxsLCAiZmlsbCI6IHRydWUsICJmaWxsQ29sb3IiOiAiYmx1ZSIsICJmaWxsT3BhY2l0eSI6IDAuNiwgImZpbGxSdWxlIjogImV2ZW5vZGQiLCAibGluZUNhcCI6ICJyb3VuZCIsICJsaW5lSm9pbiI6ICJyb3VuZCIsICJvcGFjaXR5IjogMS4wLCAicmFkaXVzIjogMTAsICJzdHJva2UiOiB0cnVlLCAid2VpZ2h0IjogM30KICAgICAgICAgICAgKS5hZGRUbyhmZWF0dXJlX2dyb3VwX2Q2NmJkNDEzN2FiNjQ5ODI4NDk5NDdjNTgyMjI0MjFlKTsKICAgICAgICAKICAgIAogICAgICAgICAgICB2YXIgY2lyY2xlX21hcmtlcl9iMDIzNmU0MWZjMDI0MWVhYTljZDUzYTVjYTg2Mzk4YSA9IEwuY2lyY2xlTWFya2VyKAogICAgICAgICAgICAgICAgWzQwLjgxNTk3NjA2NzQyNDE0LCAtNzMuOTQzMjExMTI2MDM5MDVdLAogICAgICAgICAgICAgICAgeyJidWJibGluZ01vdXNlRXZlbnRzIjogdHJ1ZSwgImNvbG9yIjogInllbGxvdyIsICJkYXNoQXJyYXkiOiBudWxsLCAiZGFzaE9mZnNldCI6IG51bGwsICJmaWxsIjogdHJ1ZSwgImZpbGxDb2xvciI6ICJibHVlIiwgImZpbGxPcGFjaXR5IjogMC42LCAiZmlsbFJ1bGUiOiAiZXZlbm9kZCIsICJsaW5lQ2FwIjogInJvdW5kIiwgImxpbmVKb2luIjogInJvdW5kIiwgIm9wYWNpdHkiOiAxLjAsICJyYWRpdXMiOiAxMCwgInN0cm9rZSI6IHRydWUsICJ3ZWlnaHQiOiAzfQogICAgICAgICAgICApLmFkZFRvKGZlYXR1cmVfZ3JvdXBfZDY2YmQ0MTM3YWI2NDk4Mjg0OTk0N2M1ODIyMjQyMWUpOwogICAgICAgIAogICAgCiAgICAgICAgICAgIHZhciBjaXJjbGVfbWFya2VyXzIxMjQwNzRmODQzMjRkMjBhMTE3NzYzMmJhNGRkNjMxID0gTC5jaXJjbGVNYXJrZXIoCiAgICAgICAgICAgICAgICBbNDAuNjcwODI5MTc2OTUyOTQsIC03My45NDMyOTExOTA3MzU4Ml0sCiAgICAgICAgICAgICAgICB7ImJ1YmJsaW5nTW91c2VFdmVudHMiOiB0cnVlLCAiY29sb3IiOiAieWVsbG93IiwgImRhc2hBcnJheSI6IG51bGwsICJkYXNoT2Zmc2V0IjogbnVsbCwgImZpbGwiOiB0cnVlLCAiZmlsbENvbG9yIjogImJsdWUiLCAiZmlsbE9wYWNpdHkiOiAwLjYsICJmaWxsUnVsZSI6ICJldmVub2RkIiwgImxpbmVDYXAiOiAicm91bmQiLCAibGluZUpvaW4iOiAicm91bmQiLCAib3BhY2l0eSI6IDEuMCwgInJhZGl1cyI6IDEwLCAic3Ryb2tlIjogdHJ1ZSwgIndlaWdodCI6IDN9CiAgICAgICAgICAgICkuYWRkVG8oZmVhdHVyZV9ncm91cF9kNjZiZDQxMzdhYjY0OTgyODQ5OTQ3YzU4MjIyNDIxZSk7CiAgICAgICAgCiAgICAKICAgICAgICAgICAgdmFyIGNpcmNsZV9tYXJrZXJfYTQwOTBkZjEyMTU2NGNlNDlkMGI0ODRlZDIyYjdiMDYgPSBMLmNpcmNsZU1hcmtlcigKICAgICAgICAgICAgICAgIFs0MC44NjA5OTY3OTYzODY1NCwgLTczLjg5NjQyNjU1OTgxNjIzXSwKICAgICAgICAgICAgICAgIHsiYnViYmxpbmdNb3VzZUV2ZW50cyI6IHRydWUsICJjb2xvciI6ICJ5ZWxsb3ciLCAiZGFzaEFycmF5IjogbnVsbCwgImRhc2hPZmZzZXQiOiBudWxsLCAiZmlsbCI6IHRydWUsICJmaWxsQ29sb3IiOiAiYmx1ZSIsICJmaWxsT3BhY2l0eSI6IDAuNiwgImZpbGxSdWxlIjogImV2ZW5vZGQiLCAibGluZUNhcCI6ICJyb3VuZCIsICJsaW5lSm9pbiI6ICJyb3VuZCIsICJvcGFjaXR5IjogMS4wLCAicmFkaXVzIjogMTAsICJzdHJva2UiOiB0cnVlLCAid2VpZ2h0IjogM30KICAgICAgICAgICAgKS5hZGRUbyhmZWF0dXJlX2dyb3VwX2Q2NmJkNDEzN2FiNjQ5ODI4NDk5NDdjNTgyMjI0MjFlKTsKICAgICAgICAKICAgIAogICAgICAgICAgICB2YXIgY2lyY2xlX21hcmtlcl8yNjI1ZTA5YTAwZWM0Yzc2YmZlNmYxN2NjYWFlNWNhMCA9IEwuY2lyY2xlTWFya2VyKAogICAgICAgICAgICAgICAgWzQwLjgyMzYwNDI4NDgxMTkzNSwgLTczLjk0OTY4NzkxODgzMzY2XSwKICAgICAgICAgICAgICAgIHsiYnViYmxpbmdNb3VzZUV2ZW50cyI6IHRydWUsICJjb2xvciI6ICJ5ZWxsb3ciLCAiZGFzaEFycmF5IjogbnVsbCwgImRhc2hPZmZzZXQiOiBudWxsLCAiZmlsbCI6IHRydWUsICJmaWxsQ29sb3IiOiAiYmx1ZSIsICJmaWxsT3BhY2l0eSI6IDAuNiwgImZpbGxSdWxlIjogImV2ZW5vZGQiLCAibGluZUNhcCI6ICJyb3VuZCIsICJsaW5lSm9pbiI6ICJyb3VuZCIsICJvcGFjaXR5IjogMS4wLCAicmFkaXVzIjogMTAsICJzdHJva2UiOiB0cnVlLCAid2VpZ2h0IjogM30KICAgICAgICAgICAgKS5hZGRUbyhmZWF0dXJlX2dyb3VwX2Q2NmJkNDEzN2FiNjQ5ODI4NDk5NDdjNTgyMjI0MjFlKTsKICAgICAgICAKPC9zY3JpcHQ+\" style=\"position:absolute;width:100%;height:100%;left:0;top:0;border:none !important;\" allowfullscreen webkitallowfullscreen mozallowfullscreen></iframe></div></div>"
      ],
      "text/plain": [
       "<folium.folium.Map at 0x7fa16b19aef0>"
      ]
     },
     "execution_count": 124,
     "metadata": {
      "tags": []
     },
     "output_type": "execute_result"
    }
   ],
   "source": [
    "ny_neighborhood_stats['Label']=ny_neighborhood_stats['Neighborhood']+', '+ny_neighborhood_stats['Borough']+'('+ny_neighborhood_stats['Average Rating'].map(str)+')'\n",
    "\n",
    "# add pop-up text to each marker on the map\n",
    "for lat, lng, label in ny_neighborhood_stats[['Latitude','Longitude','Label']].values:\n",
    "    folium.Marker([lat, lng], popup=label).add_to(ny_map)        \n",
    "# add incidents to map\n",
    "ny_map.add_child(incidents)"
   ]
  },
  {
   "cell_type": "code",
   "execution_count": null,
   "metadata": {},
   "outputs": [],
   "source": []
  },
  {
   "cell_type": "markdown",
   "metadata": {
    "colab_type": "text",
    "id": "-YIihWlP8W8-"
   },
   "source": [
    "Now that we have visualized the Neighbourhoods. \n",
    "\n",
    "Lets Visualize Boroughs based on average rating."
   ]
  },
  {
   "cell_type": "code",
   "execution_count": null,
   "metadata": {
    "colab": {},
    "colab_type": "code",
    "id": "K3AqTiez8W9E",
    "outputId": "3289a54f-a796-4a9d-e295-ef884227c340"
   },
   "outputs": [
    {
     "data": {
      "text/html": [
       "<div style=\"width:100%;\"><div style=\"position:relative;width:100%;height:0;padding-bottom:60%;\"><iframe src=\"data:text/html;charset=utf-8;base64,PCFET0NUWVBFIGh0bWw+CjxoZWFkPiAgICAKICAgIDxtZXRhIGh0dHAtZXF1aXY9ImNvbnRlbnQtdHlwZSIgY29udGVudD0idGV4dC9odG1sOyBjaGFyc2V0PVVURi04IiAvPgogICAgCiAgICAgICAgPHNjcmlwdD4KICAgICAgICAgICAgTF9OT19UT1VDSCA9IGZhbHNlOwogICAgICAgICAgICBMX0RJU0FCTEVfM0QgPSBmYWxzZTsKICAgICAgICA8L3NjcmlwdD4KICAgIAogICAgPHNjcmlwdCBzcmM9Imh0dHBzOi8vY2RuLmpzZGVsaXZyLm5ldC9ucG0vbGVhZmxldEAxLjQuMC9kaXN0L2xlYWZsZXQuanMiPjwvc2NyaXB0PgogICAgPHNjcmlwdCBzcmM9Imh0dHBzOi8vY29kZS5qcXVlcnkuY29tL2pxdWVyeS0xLjEyLjQubWluLmpzIj48L3NjcmlwdD4KICAgIDxzY3JpcHQgc3JjPSJodHRwczovL21heGNkbi5ib290c3RyYXBjZG4uY29tL2Jvb3RzdHJhcC8zLjIuMC9qcy9ib290c3RyYXAubWluLmpzIj48L3NjcmlwdD4KICAgIDxzY3JpcHQgc3JjPSJodHRwczovL2NkbmpzLmNsb3VkZmxhcmUuY29tL2FqYXgvbGlicy9MZWFmbGV0LmF3ZXNvbWUtbWFya2Vycy8yLjAuMi9sZWFmbGV0LmF3ZXNvbWUtbWFya2Vycy5qcyI+PC9zY3JpcHQ+CiAgICA8bGluayByZWw9InN0eWxlc2hlZXQiIGhyZWY9Imh0dHBzOi8vY2RuLmpzZGVsaXZyLm5ldC9ucG0vbGVhZmxldEAxLjQuMC9kaXN0L2xlYWZsZXQuY3NzIi8+CiAgICA8bGluayByZWw9InN0eWxlc2hlZXQiIGhyZWY9Imh0dHBzOi8vbWF4Y2RuLmJvb3RzdHJhcGNkbi5jb20vYm9vdHN0cmFwLzMuMi4wL2Nzcy9ib290c3RyYXAubWluLmNzcyIvPgogICAgPGxpbmsgcmVsPSJzdHlsZXNoZWV0IiBocmVmPSJodHRwczovL21heGNkbi5ib290c3RyYXBjZG4uY29tL2Jvb3RzdHJhcC8zLjIuMC9jc3MvYm9vdHN0cmFwLXRoZW1lLm1pbi5jc3MiLz4KICAgIDxsaW5rIHJlbD0ic3R5bGVzaGVldCIgaHJlZj0iaHR0cHM6Ly9tYXhjZG4uYm9vdHN0cmFwY2RuLmNvbS9mb250LWF3ZXNvbWUvNC42LjMvY3NzL2ZvbnQtYXdlc29tZS5taW4uY3NzIi8+CiAgICA8bGluayByZWw9InN0eWxlc2hlZXQiIGhyZWY9Imh0dHBzOi8vY2RuanMuY2xvdWRmbGFyZS5jb20vYWpheC9saWJzL0xlYWZsZXQuYXdlc29tZS1tYXJrZXJzLzIuMC4yL2xlYWZsZXQuYXdlc29tZS1tYXJrZXJzLmNzcyIvPgogICAgPGxpbmsgcmVsPSJzdHlsZXNoZWV0IiBocmVmPSJodHRwczovL3Jhd2Nkbi5naXRoYWNrLmNvbS9weXRob24tdmlzdWFsaXphdGlvbi9mb2xpdW0vbWFzdGVyL2ZvbGl1bS90ZW1wbGF0ZXMvbGVhZmxldC5hd2Vzb21lLnJvdGF0ZS5jc3MiLz4KICAgIDxzdHlsZT5odG1sLCBib2R5IHt3aWR0aDogMTAwJTtoZWlnaHQ6IDEwMCU7bWFyZ2luOiAwO3BhZGRpbmc6IDA7fTwvc3R5bGU+CiAgICA8c3R5bGU+I21hcCB7cG9zaXRpb246YWJzb2x1dGU7dG9wOjA7Ym90dG9tOjA7cmlnaHQ6MDtsZWZ0OjA7fTwvc3R5bGU+CiAgICAKICAgICAgICAgICAgPG1ldGEgbmFtZT0idmlld3BvcnQiIGNvbnRlbnQ9IndpZHRoPWRldmljZS13aWR0aCwKICAgICAgICAgICAgICAgIGluaXRpYWwtc2NhbGU9MS4wLCBtYXhpbXVtLXNjYWxlPTEuMCwgdXNlci1zY2FsYWJsZT1ubyIgLz4KICAgICAgICAgICAgPHN0eWxlPgogICAgICAgICAgICAgICAgI21hcF8wMDIxMDQ4M2U5ODY0ZDAwOGVhZWFiNzAxOTkzNmNjNSB7CiAgICAgICAgICAgICAgICAgICAgcG9zaXRpb246IHJlbGF0aXZlOwogICAgICAgICAgICAgICAgICAgIHdpZHRoOiAxMDAuMCU7CiAgICAgICAgICAgICAgICAgICAgaGVpZ2h0OiAxMDAuMCU7CiAgICAgICAgICAgICAgICAgICAgbGVmdDogMC4wJTsKICAgICAgICAgICAgICAgICAgICB0b3A6IDAuMCU7CiAgICAgICAgICAgICAgICB9CiAgICAgICAgICAgIDwvc3R5bGU+CiAgICAgICAgCjwvaGVhZD4KPGJvZHk+ICAgIAogICAgCiAgICAgICAgICAgIDxkaXYgY2xhc3M9ImZvbGl1bS1tYXAiIGlkPSJtYXBfMDAyMTA0ODNlOTg2NGQwMDhlYWVhYjcwMTk5MzZjYzUiID48L2Rpdj4KICAgICAgICAKPC9ib2R5Pgo8c2NyaXB0PiAgICAKICAgIAogICAgICAgICAgICB2YXIgbWFwXzAwMjEwNDgzZTk4NjRkMDA4ZWFlYWI3MDE5OTM2Y2M1ID0gTC5tYXAoCiAgICAgICAgICAgICAgICAibWFwXzAwMjEwNDgzZTk4NjRkMDA4ZWFlYWI3MDE5OTM2Y2M1IiwKICAgICAgICAgICAgICAgIHsKICAgICAgICAgICAgICAgICAgICBjZW50ZXI6IFs0MC43MTI3MjgxLCAtNzQuMDA2MDE1Ml0sCiAgICAgICAgICAgICAgICAgICAgY3JzOiBMLkNSUy5FUFNHMzg1NywKICAgICAgICAgICAgICAgICAgICB6b29tOiAxMiwKICAgICAgICAgICAgICAgICAgICB6b29tQ29udHJvbDogdHJ1ZSwKICAgICAgICAgICAgICAgICAgICBwcmVmZXJDYW52YXM6IGZhbHNlLAogICAgICAgICAgICAgICAgfQogICAgICAgICAgICApOwoKICAgICAgICAgICAgCgogICAgICAgIAogICAgCiAgICAgICAgICAgIHZhciB0aWxlX2xheWVyXzhlYmJkYWU4ZmM3MzRkYWJiZTVmMDM0Y2UxY2UzMGUxID0gTC50aWxlTGF5ZXIoCiAgICAgICAgICAgICAgICAiaHR0cHM6Ly97c30udGlsZS5vcGVuc3RyZWV0bWFwLm9yZy97en0ve3h9L3t5fS5wbmciLAogICAgICAgICAgICAgICAgeyJhdHRyaWJ1dGlvbiI6ICJEYXRhIGJ5IFx1MDAyNmNvcHk7IFx1MDAzY2EgaHJlZj1cImh0dHA6Ly9vcGVuc3RyZWV0bWFwLm9yZ1wiXHUwMDNlT3BlblN0cmVldE1hcFx1MDAzYy9hXHUwMDNlLCB1bmRlciBcdTAwM2NhIGhyZWY9XCJodHRwOi8vd3d3Lm9wZW5zdHJlZXRtYXAub3JnL2NvcHlyaWdodFwiXHUwMDNlT0RiTFx1MDAzYy9hXHUwMDNlLiIsICJkZXRlY3RSZXRpbmEiOiBmYWxzZSwgIm1heE5hdGl2ZVpvb20iOiAxOCwgIm1heFpvb20iOiAxOCwgIm1pblpvb20iOiAwLCAibm9XcmFwIjogZmFsc2UsICJvcGFjaXR5IjogMSwgInN1YmRvbWFpbnMiOiAiYWJjIiwgInRtcyI6IGZhbHNlfQogICAgICAgICAgICApLmFkZFRvKG1hcF8wMDIxMDQ4M2U5ODY0ZDAwOGVhZWFiNzAxOTkzNmNjNSk7CiAgICAgICAgCjwvc2NyaXB0Pg==\" style=\"position:absolute;width:100%;height:100%;left:0;top:0;border:none !important;\" allowfullscreen webkitallowfullscreen mozallowfullscreen></iframe></div></div>"
      ],
      "text/plain": [
       "<folium.folium.Map at 0x7fa16b0ddbe0>"
      ]
     },
     "execution_count": 134,
     "metadata": {
      "tags": []
     },
     "output_type": "execute_result"
    }
   ],
   "source": [
    "ny_map = folium.Map(location=geo_location('New York'), zoom_start=12)\n",
    "#ny_geo = r'Borough_Boundaries.geojson'\n",
    "ny_geo = 'https://data.cityofnewyork.us/api/geospatial/tqmj-j8zm?method=export&format=GeoJSON'\n",
    "\n",
    "#ny_map.choropleth(\n",
    "folium.Choropleth(\n",
    "    geo_data=ny_geo,\n",
    "    name='choropleth',\n",
    "    data=ny_borough_stats,\n",
    "    columns=['Borough', 'Average Rating'],\n",
    "    key_on='feature.properties.boro_name',\n",
    "    fill_color='YlGn', \n",
    "    fill_opacity=0.7, \n",
    "    line_opacity=0.2,\n",
    "    legend_name='Average Rating'\n",
    ")\n",
    "\n",
    "ny_map\n",
    "# display map\n",
    "# as this is huge map data , we will save it to a file\n",
    "#ny_map.save('borough_rating.html')"
   ]
  },
  {
   "cell_type": "markdown",
   "metadata": {
    "colab_type": "text",
    "id": "4M9qGMWd8W9c"
   },
   "source": [
    "## Results "
   ]
  },
  {
   "cell_type": "markdown",
   "metadata": {
    "colab_type": "text",
    "id": "CxpRCzLp8W9g"
   },
   "source": [
    "From this analysis, out of the 306 neighbourhoods in New York City, there are  12 African restaurants that are spreaded across the city. The result is unpredictable considering the large number of Africans living in New York City. Restaurants in Crown heights have the highest number of ratings. While Manhattan takes the lead for the Boroughs. This result is solely based on the data pulled from the Foursquare API."
   ]
  },
  {
   "cell_type": "markdown",
   "metadata": {
    "colab_type": "text",
    "id": "4vlZBEFa8W9k"
   },
   "source": [
    "## Observations"
   ]
  },
  {
   "cell_type": "markdown",
   "metadata": {
    "colab_type": "text",
    "id": "bNxMrejf8W9o"
   },
   "source": [
    "We could observe that, Manhattan has the highest number of African restaurants and then followed by Bronx and Brooklyn. This makes it just 3 out of the 5 Boroughs housing African restaurants.\n"
   ]
  },
  {
   "cell_type": "markdown",
   "metadata": {
    "colab_type": "text",
    "id": "v0PP4b638W9s"
   },
   "source": [
    "## Conclusion"
   ]
  },
  {
   "cell_type": "markdown",
   "metadata": {
    "colab_type": "text",
    "id": "VLEGzCUy8W9w"
   },
   "source": [
    "The opportunity exists to set up an African restaurant. The market for African cuisine is available but the supply seems to be  below the demand. We could say that the competition is not much. Thus, I can conclude that opening a African restaurant is a good idea that I will suggest to the client.\n"
   ]
  },
  {
   "cell_type": "code",
   "execution_count": null,
   "metadata": {
    "colab": {},
    "colab_type": "code",
    "id": "-4jEOena8W90"
   },
   "outputs": [],
   "source": []
  }
 ],
 "metadata": {
  "colab": {
   "name": "The Battle of Neighbourhoods - Final.ipynb",
   "provenance": [],
   "toc_visible": true
  },
  "kernelspec": {
   "display_name": "Python 3",
   "language": "python",
   "name": "python3"
  },
  "language_info": {
   "codemirror_mode": {
    "name": "ipython",
    "version": 3
   },
   "file_extension": ".py",
   "mimetype": "text/x-python",
   "name": "python",
   "nbconvert_exporter": "python",
   "pygments_lexer": "ipython3",
   "version": "3.7.3"
  }
 },
 "nbformat": 4,
 "nbformat_minor": 1
}
